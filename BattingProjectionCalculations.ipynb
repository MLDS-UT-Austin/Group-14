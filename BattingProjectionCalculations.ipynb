{
  "nbformat": 4,
  "nbformat_minor": 0,
  "metadata": {
    "colab": {
      "provenance": []
    },
    "kernelspec": {
      "name": "python3",
      "display_name": "Python 3"
    },
    "language_info": {
      "name": "python"
    }
  },
  "cells": [
    {
      "cell_type": "code",
      "source": [],
      "metadata": {
        "id": "g80ojASD2dUn"
      },
      "execution_count": null,
      "outputs": []
    },
    {
      "cell_type": "markdown",
      "source": [
        "# **Batting Summary** - 2024 Projections\n",
        "**"
      ],
      "metadata": {
        "id": "A_KB3Dpc2X_8"
      }
    },
    {
      "cell_type": "code",
      "source": [
        "#Mount drive to access files\n",
        "from google.colab import drive\n",
        "drive.mount('/content/drive')"
      ],
      "metadata": {
        "colab": {
          "base_uri": "https://localhost:8080/"
        },
        "id": "tIfdUUgA2VCo",
        "outputId": "c94b5f47-b12f-4590-c8f2-eee7778a9c01"
      },
      "execution_count": 506,
      "outputs": [
        {
          "output_type": "stream",
          "name": "stdout",
          "text": [
            "Mounted at /content/drive\n"
          ]
        }
      ]
    },
    {
      "cell_type": "code",
      "source": [
        "#All the imports\n",
        "import tensorflow as tf\n",
        "from tensorflow.keras import layers, models\n",
        "from tensorflow.keras.preprocessing.image import ImageDataGenerator\n",
        "from tensorflow.keras.optimizers import Adam"
      ],
      "metadata": {
        "id": "RzJ_uJsW0ssQ"
      },
      "execution_count": 511,
      "outputs": []
    },
    {
      "cell_type": "code",
      "source": [
        "import pandas as pd\n",
        "import seaborn as sns\n",
        "import matplotlib.pyplot as plt\n",
        "import numpy as np\n",
        "from sklearn.model_selection import train_test_split\n",
        "from sklearn import metrics\n",
        "from sklearn.metrics import accuracy_score, classification_report, confusion_matrix\n",
        "import os"
      ],
      "metadata": {
        "id": "7cFqicY001YV"
      },
      "execution_count": 508,
      "outputs": []
    },
    {
      "cell_type": "code",
      "source": [
        "from sklearn import metrics\n",
        "from sklearn.metrics import confusion_matrix\n",
        "import seaborn as sns; sns.set()\n",
        "import matplotlib.pyplot as plt\n",
        "from sklearn.preprocessing import MinMaxScaler\n",
        "from sklearn.model_selection import train_test_split\n",
        "from keras.models import Sequential\n",
        "from keras.layers import LSTM, Dense\n",
        "from sklearn.model_selection import GridSearchCV\n",
        "import tensorflow.keras.regularizers\n",
        "from tensorflow.keras.callbacks import EarlyStopping"
      ],
      "metadata": {
        "id": "wzoQIbCF0-2o"
      },
      "execution_count": 510,
      "outputs": []
    },
    {
      "cell_type": "markdown",
      "source": [
        "##Data Preprocessing"
      ],
      "metadata": {
        "id": "sx9gkKNk21Dm"
      }
    },
    {
      "cell_type": "code",
      "source": [
        "training_truth = \"/content/drive/MyDrive/example_data/batting_season_summary.csv\"\n",
        "other_truth = \"/content/drive/MyDrive/example_data/submission_example.csv\"\n",
        "\n",
        "data = pd.read_csv(training_truth)\n",
        "real_names = pd.read_csv(other_truth)\n",
        "# data = data.loc[data['pos'] != 'P'] #IF ONLY PITCHERS NEEDED"
      ],
      "metadata": {
        "id": "FyIS-oeq1AAR"
      },
      "execution_count": 458,
      "outputs": []
    },
    {
      "cell_type": "code",
      "source": [
        "# Removed AB, BB, 3B due to low correlation\n",
        "selected_columns = ['Name', 'age', 'PA', 'H', '2B', 'HR', 'SO', 'P/PA', 'BA', 'OBP', 'SLG', 'OPS', 'Year']\n",
        "data = data[selected_columns]\n",
        "real_names_data =real_names['Name']\n",
        "len(selected_columns)"
      ],
      "metadata": {
        "colab": {
          "base_uri": "https://localhost:8080/"
        },
        "id": "_HRH5Gcv3Qp3",
        "outputId": "b5d3b39c-bf53-48d8-8ceb-e2045ff11953"
      },
      "execution_count": 459,
      "outputs": [
        {
          "output_type": "execute_result",
          "data": {
            "text/plain": [
              "16"
            ]
          },
          "metadata": {},
          "execution_count": 459
        }
      ]
    },
    {
      "cell_type": "markdown",
      "source": [
        "##Tensorflow Neural Network"
      ],
      "metadata": {
        "id": "0dOERyti3O0m"
      }
    },
    {
      "cell_type": "code",
      "source": [
        "# Custom age layer to neural network: emphasize age as one of most important factors\n",
        "\n",
        "class CustomAgeLayer(tf.keras.layers.Layer):\n",
        "    def __init__(self, age_factor, **kwargs):\n",
        "        super(CustomAgeLayer, self).__init__(**kwargs)\n",
        "        self.age_factor = age_factor\n",
        "\n",
        "    def build(self, input_shape):\n",
        "        self.age_weight = self.add_weight(shape=(1,),\n",
        "                                           initializer=tf.keras.initializers.Constant(value=2.0),\n",
        "                                           trainable=True)\n",
        "    def call(self, inputs):\n",
        "        age = inputs[:, 0]\n",
        "        weighted_age = age * self.age_factor * self.age_weight\n",
        "        return tf.concat([weighted_age[:, tf.newaxis], inputs[:, 1:]], axis=1)\n",
        "\n",
        "    def get_config(self):\n",
        "        config = super(CustomAgeLayer, self).get_config()\n",
        "        config.update({'age_factor': self.age_factor})\n",
        "        return config"
      ],
      "metadata": {
        "id": "iUDTVRJsIuyn"
      },
      "execution_count": 473,
      "outputs": []
    },
    {
      "cell_type": "code",
      "source": [
        "#Tensorflow neural network for predictions\n",
        "def getModel(shape):\n",
        "  model = tf.keras.Sequential([\n",
        "      CustomAgeLayer(age_factor=1.5),  # Custom age layer with age_factor=1.5\n",
        "      tf.keras.layers.Dense(128, activation='relu', kernel_regularizer=l2(0.01)),\n",
        "      tf.keras.layers.Dense(64, activation='relu', kernel_regularizer=l2(0.01)),\n",
        "      tf.keras.layers.Dense(32, activation='relu', kernel_regularizer=l2(0.01)),\n",
        "        Dense(1)\n",
        "  ])\n",
        "  return model;\n"
      ],
      "metadata": {
        "id": "ed5ji87T3Y8l"
      },
      "execution_count": 512,
      "outputs": []
    },
    {
      "cell_type": "code",
      "source": [
        "def parseModel(data):\n",
        "  selected_columns = ['Name', 'age', 'PA', 'H', '2B', 'HR', 'SO', 'P/PA', 'BA', 'OBP', 'SLG', 'OPS', 'Year']\n",
        "  data = data[selected_columns]\n",
        "\n",
        "  grouped_data = data.groupby('Name').agg('mean').reset_index()\n",
        "\n",
        "  # Remove unnecessary columns\n",
        "  X = grouped_data.iloc[:, 1:-1].values\n",
        "  y = grouped_data['H'].values\n",
        "\n",
        "  scaler = MinMaxScaler()\n",
        "  X_scaled = scaler.fit_transform(X)\n",
        "\n",
        "\n",
        "  #Optimize model based on mean_squared_error\n",
        "  model = getModel(X.shape[1])\n",
        "  model.compile(optimizer=Adam(), loss='mean_squared_error')\n",
        "\n",
        "  early_stopping = EarlyStopping(monitor='mean_squared_error', patience=2, restore_best_weights=True)\n",
        "  model.fit(X_scaled, y, epochs=100, batch_size=32, verbose=1, callbacks=[early_stopping])\n",
        "  X_2024_scaled = scaler.transform(X)\n",
        "\n",
        "  #Predict next years data\n",
        "  predictions_2024 = model.predict(X_2024_scaled)\n",
        "\n",
        "  #Group of names\n",
        "  grouped_data['Predicted_Hits_2024'] = predictions_2024\n",
        "  print(grouped_data[['Name', 'Predicted_Hits_2024']])\n",
        "  return grouped_data;"
      ],
      "metadata": {
        "id": "8O9rRtji3lzu"
      },
      "execution_count": 515,
      "outputs": []
    },
    {
      "cell_type": "code",
      "source": [
        "import neat\n",
        "import numpy as np\n",
        "from sklearn.preprocessing import MinMaxScaler\n",
        "\n",
        "# Define evaluation function\n",
        "def eval_genomes(genomes, config):\n",
        "    for genome_id, genome in genomes:\n",
        "        net = neat.nn.FeedForwardNetwork.create(genome, config)\n",
        "        predictions = np.array([net.activate(x) for x in X_scaled])\n",
        "        mse = np.mean((predictions - y) ** 2)\n",
        "        genome.fitness = 1 / (mse + 1e-6)\n",
        "\n",
        "def parseNEATModel(data):\n",
        "    # Select relevant columns for this model (hypothetically more than other model)\n",
        "    selected_columns = ['age', 'PA', 'H', '2B', 'HR', 'SO', 'P/PA', 'BA', 'OBP', 'SLG', 'OPS']\n",
        "    data = data[selected_columns]\n",
        "\n",
        "    grouped_data = data.groupby('Name').agg('mean').reset_index()\n",
        "\n",
        "    # Remove unnecessary columns\n",
        "    X = grouped_data.iloc[:, 1:].values\n",
        "    y = grouped_data['H'].values  # Hits (H)\n",
        "\n",
        "    scaler = MinMaxScaler()\n",
        "    X_scaled = scaler.fit_transform(X)\n",
        "\n",
        "    # Set up NEAT configuration\n",
        "    config_path = 'config-feedforward'\n",
        "    config = neat.Config(neat.DefaultGenome, neat.DefaultReproduction,\n",
        "                         neat.DefaultSpeciesSet, neat.DefaultStagnation,\n",
        "                         config_path)\n",
        "\n",
        "    p = neat.Population(config)\n",
        "    winner = p.run(eval_genomes, n=75)  # Run for 100 generations\n",
        "\n",
        "    best_genome = winner\n",
        "\n",
        "    # Create model from best genome\n",
        "    best_net = neat.nn.FeedForwardNetwork.create(best_genome, config)\n",
        "\n",
        "    # Predict hits for 2024 based on aggregated player statistics\n",
        "    predictions_2024 = np.array([best_net.activate(x) for x in X_scaled])\n",
        "\n",
        "    # Print or save the DataFrame with predicted hits for 2024 for each player\n",
        "    grouped_data['Predicted_Hits_2024'] = predictions_2024\n",
        "    print(grouped_data[['Name', 'Predicted_Hits_2024']])\n",
        "    return grouped_data\n"
      ],
      "metadata": {
        "id": "31MxgXC9u2ib"
      },
      "execution_count": 516,
      "outputs": []
    },
    {
      "cell_type": "code",
      "source": [
        "grouped_date = parseModel(data)"
      ],
      "metadata": {
        "colab": {
          "base_uri": "https://localhost:8080/"
        },
        "id": "Xn8IsecztiYW",
        "outputId": "a9773ccd-6671-4fe3-e687-55eda8a29ada"
      },
      "execution_count": 517,
      "outputs": [
        {
          "output_type": "stream",
          "name": "stdout",
          "text": [
            "Epoch 1/100\n",
            " 1/17 [>.............................] - ETA: 19s - loss: 22883.8223"
          ]
        },
        {
          "output_type": "stream",
          "name": "stderr",
          "text": [
            "WARNING:tensorflow:Early stopping conditioned on metric `mean_squared_error` which is not available. Available metrics are: loss\n"
          ]
        },
        {
          "output_type": "stream",
          "name": "stdout",
          "text": [
            "\b\b\b\b\b\b\b\b\b\b\b\b\b\b\b\b\b\b\b\b\b\b\b\b\b\b\b\b\b\b\b\b\b\b\b\b\b\b\b\b\b\b\b\b\b\b\b\b\b\b\b\b\b\b\b\b\b\b\b\b\b\b\b\b\b\b\b\b\r17/17 [==============================] - 1s 3ms/step - loss: 23956.2852\n",
            "Epoch 2/100\n",
            " 1/17 [>.............................] - ETA: 0s - loss: 21376.1504"
          ]
        },
        {
          "output_type": "stream",
          "name": "stderr",
          "text": [
            "WARNING:tensorflow:Early stopping conditioned on metric `mean_squared_error` which is not available. Available metrics are: loss\n"
          ]
        },
        {
          "output_type": "stream",
          "name": "stdout",
          "text": [
            "\b\b\b\b\b\b\b\b\b\b\b\b\b\b\b\b\b\b\b\b\b\b\b\b\b\b\b\b\b\b\b\b\b\b\b\b\b\b\b\b\b\b\b\b\b\b\b\b\b\b\b\b\b\b\b\b\b\b\b\b\b\b\b\b\b\b\b\r17/17 [==============================] - 0s 3ms/step - loss: 23232.7188\n",
            "Epoch 3/100\n",
            " 1/17 [>.............................] - ETA: 0s - loss: 23724.9102"
          ]
        },
        {
          "output_type": "stream",
          "name": "stderr",
          "text": [
            "WARNING:tensorflow:Early stopping conditioned on metric `mean_squared_error` which is not available. Available metrics are: loss\n"
          ]
        },
        {
          "output_type": "stream",
          "name": "stdout",
          "text": [
            "\b\b\b\b\b\b\b\b\b\b\b\b\b\b\b\b\b\b\b\b\b\b\b\b\b\b\b\b\b\b\b\b\b\b\b\b\b\b\b\b\b\b\b\b\b\b\b\b\b\b\b\b\b\b\b\b\b\b\b\b\b\b\b\b\b\b\b\r17/17 [==============================] - 0s 3ms/step - loss: 21179.3711\n",
            "Epoch 4/100\n",
            " 1/17 [>.............................] - ETA: 0s - loss: 18434.4375"
          ]
        },
        {
          "output_type": "stream",
          "name": "stderr",
          "text": [
            "WARNING:tensorflow:Early stopping conditioned on metric `mean_squared_error` which is not available. Available metrics are: loss\n"
          ]
        },
        {
          "output_type": "stream",
          "name": "stdout",
          "text": [
            "\b\b\b\b\b\b\b\b\b\b\b\b\b\b\b\b\b\b\b\b\b\b\b\b\b\b\b\b\b\b\b\b\b\b\b\b\b\b\b\b\b\b\b\b\b\b\b\b\b\b\b\b\b\b\b\b\b\b\b\b\b\b\b\b\b\b\b\r17/17 [==============================] - 0s 3ms/step - loss: 15639.7051\n",
            "Epoch 5/100\n",
            " 1/17 [>.............................] - ETA: 0s - loss: 11108.4814"
          ]
        },
        {
          "output_type": "stream",
          "name": "stderr",
          "text": [
            "WARNING:tensorflow:Early stopping conditioned on metric `mean_squared_error` which is not available. Available metrics are: loss\n"
          ]
        },
        {
          "output_type": "stream",
          "name": "stdout",
          "text": [
            "\b\b\b\b\b\b\b\b\b\b\b\b\b\b\b\b\b\b\b\b\b\b\b\b\b\b\b\b\b\b\b\b\b\b\b\b\b\b\b\b\b\b\b\b\b\b\b\b\b\b\b\b\b\b\b\b\b\b\b\b\b\b\b\b\b\b\b\r17/17 [==============================] - 0s 3ms/step - loss: 6075.6147\n",
            "Epoch 6/100\n",
            "13/17 [=====================>........] - ETA: 0s - loss: 717.0844"
          ]
        },
        {
          "output_type": "stream",
          "name": "stderr",
          "text": [
            "WARNING:tensorflow:Early stopping conditioned on metric `mean_squared_error` which is not available. Available metrics are: loss\n"
          ]
        },
        {
          "output_type": "stream",
          "name": "stdout",
          "text": [
            "\b\b\b\b\b\b\b\b\b\b\b\b\b\b\b\b\b\b\b\b\b\b\b\b\b\b\b\b\b\b\b\b\b\b\b\b\b\b\b\b\b\b\b\b\b\b\b\b\b\b\b\b\b\b\b\b\b\b\b\b\b\b\b\b\b\r17/17 [==============================] - 0s 5ms/step - loss: 738.0182\n",
            "Epoch 7/100\n",
            "13/17 [=====================>........] - ETA: 0s - loss: 599.6638"
          ]
        },
        {
          "output_type": "stream",
          "name": "stderr",
          "text": [
            "WARNING:tensorflow:Early stopping conditioned on metric `mean_squared_error` which is not available. Available metrics are: loss\n"
          ]
        },
        {
          "output_type": "stream",
          "name": "stdout",
          "text": [
            "\b\b\b\b\b\b\b\b\b\b\b\b\b\b\b\b\b\b\b\b\b\b\b\b\b\b\b\b\b\b\b\b\b\b\b\b\b\b\b\b\b\b\b\b\b\b\b\b\b\b\b\b\b\b\b\b\b\b\b\b\b\b\b\b\b\r17/17 [==============================] - 0s 5ms/step - loss: 563.8846\n",
            "Epoch 8/100\n",
            "12/17 [====================>.........] - ETA: 0s - loss: 439.5819"
          ]
        },
        {
          "output_type": "stream",
          "name": "stderr",
          "text": [
            "WARNING:tensorflow:Early stopping conditioned on metric `mean_squared_error` which is not available. Available metrics are: loss\n"
          ]
        },
        {
          "output_type": "stream",
          "name": "stdout",
          "text": [
            "\b\b\b\b\b\b\b\b\b\b\b\b\b\b\b\b\b\b\b\b\b\b\b\b\b\b\b\b\b\b\b\b\b\b\b\b\b\b\b\b\b\b\b\b\b\b\b\b\b\b\b\b\b\b\b\b\b\b\b\b\b\b\b\b\b\r17/17 [==============================] - 0s 5ms/step - loss: 436.1657\n",
            "Epoch 9/100\n",
            "12/17 [====================>.........] - ETA: 0s - loss: 368.3867"
          ]
        },
        {
          "output_type": "stream",
          "name": "stderr",
          "text": [
            "WARNING:tensorflow:Early stopping conditioned on metric `mean_squared_error` which is not available. Available metrics are: loss\n"
          ]
        },
        {
          "output_type": "stream",
          "name": "stdout",
          "text": [
            "\b\b\b\b\b\b\b\b\b\b\b\b\b\b\b\b\b\b\b\b\b\b\b\b\b\b\b\b\b\b\b\b\b\b\b\b\b\b\b\b\b\b\b\b\b\b\b\b\b\b\b\b\b\b\b\b\b\b\b\b\b\b\b\b\b\r17/17 [==============================] - 0s 5ms/step - loss: 371.3520\n",
            "Epoch 10/100\n",
            "17/17 [==============================] - ETA: 0s - loss: 330.9485"
          ]
        },
        {
          "output_type": "stream",
          "name": "stderr",
          "text": [
            "WARNING:tensorflow:Early stopping conditioned on metric `mean_squared_error` which is not available. Available metrics are: loss\n"
          ]
        },
        {
          "output_type": "stream",
          "name": "stdout",
          "text": [
            "\b\b\b\b\b\b\b\b\b\b\b\b\b\b\b\b\b\b\b\b\b\b\b\b\b\b\b\b\b\b\b\b\b\b\b\b\b\b\b\b\b\b\b\b\b\b\b\b\b\b\b\b\b\b\b\b\b\b\b\b\b\b\b\b\b\r17/17 [==============================] - 0s 4ms/step - loss: 330.9485\n",
            "Epoch 11/100\n",
            "13/17 [=====================>........] - ETA: 0s - loss: 303.2857"
          ]
        },
        {
          "output_type": "stream",
          "name": "stderr",
          "text": [
            "WARNING:tensorflow:Early stopping conditioned on metric `mean_squared_error` which is not available. Available metrics are: loss\n"
          ]
        },
        {
          "output_type": "stream",
          "name": "stdout",
          "text": [
            "\b\b\b\b\b\b\b\b\b\b\b\b\b\b\b\b\b\b\b\b\b\b\b\b\b\b\b\b\b\b\b\b\b\b\b\b\b\b\b\b\b\b\b\b\b\b\b\b\b\b\b\b\b\b\b\b\b\b\b\b\b\b\b\b\b\r17/17 [==============================] - 0s 5ms/step - loss: 291.1768\n",
            "Epoch 12/100\n",
            "16/17 [===========================>..] - ETA: 0s - loss: 251.7324"
          ]
        },
        {
          "output_type": "stream",
          "name": "stderr",
          "text": [
            "WARNING:tensorflow:Early stopping conditioned on metric `mean_squared_error` which is not available. Available metrics are: loss\n"
          ]
        },
        {
          "output_type": "stream",
          "name": "stdout",
          "text": [
            "\b\b\b\b\b\b\b\b\b\b\b\b\b\b\b\b\b\b\b\b\b\b\b\b\b\b\b\b\b\b\b\b\b\b\b\b\b\b\b\b\b\b\b\b\b\b\b\b\b\b\b\b\b\b\b\b\b\b\b\b\b\b\b\b\b\r17/17 [==============================] - 0s 4ms/step - loss: 252.9942\n",
            "Epoch 13/100\n",
            "14/17 [=======================>......] - ETA: 0s - loss: 222.7569"
          ]
        },
        {
          "output_type": "stream",
          "name": "stderr",
          "text": [
            "WARNING:tensorflow:Early stopping conditioned on metric `mean_squared_error` which is not available. Available metrics are: loss\n"
          ]
        },
        {
          "output_type": "stream",
          "name": "stdout",
          "text": [
            "\b\b\b\b\b\b\b\b\b\b\b\b\b\b\b\b\b\b\b\b\b\b\b\b\b\b\b\b\b\b\b\b\b\b\b\b\b\b\b\b\b\b\b\b\b\b\b\b\b\b\b\b\b\b\b\b\b\b\b\b\b\b\b\b\b\r17/17 [==============================] - 0s 4ms/step - loss: 219.5985\n",
            "Epoch 14/100\n",
            "17/17 [==============================] - ETA: 0s - loss: 187.3275"
          ]
        },
        {
          "output_type": "stream",
          "name": "stderr",
          "text": [
            "WARNING:tensorflow:Early stopping conditioned on metric `mean_squared_error` which is not available. Available metrics are: loss\n"
          ]
        },
        {
          "output_type": "stream",
          "name": "stdout",
          "text": [
            "\b\b\b\b\b\b\b\b\b\b\b\b\b\b\b\b\b\b\b\b\b\b\b\b\b\b\b\b\b\b\b\b\b\b\b\b\b\b\b\b\b\b\b\b\b\b\b\b\b\b\b\b\b\b\b\b\b\b\b\b\b\b\b\b\b\r17/17 [==============================] - 0s 4ms/step - loss: 187.3275\n",
            "Epoch 15/100\n",
            "17/17 [==============================] - ETA: 0s - loss: 162.1874"
          ]
        },
        {
          "output_type": "stream",
          "name": "stderr",
          "text": [
            "WARNING:tensorflow:Early stopping conditioned on metric `mean_squared_error` which is not available. Available metrics are: loss\n"
          ]
        },
        {
          "output_type": "stream",
          "name": "stdout",
          "text": [
            "\b\b\b\b\b\b\b\b\b\b\b\b\b\b\b\b\b\b\b\b\b\b\b\b\b\b\b\b\b\b\b\b\b\b\b\b\b\b\b\b\b\b\b\b\b\b\b\b\b\b\b\b\b\b\b\b\b\b\b\b\b\b\b\b\b\r17/17 [==============================] - 0s 4ms/step - loss: 162.1874\n",
            "Epoch 16/100\n",
            " 1/17 [>.............................] - ETA: 0s - loss: 163.5903"
          ]
        },
        {
          "output_type": "stream",
          "name": "stderr",
          "text": [
            "WARNING:tensorflow:Early stopping conditioned on metric `mean_squared_error` which is not available. Available metrics are: loss\n"
          ]
        },
        {
          "output_type": "stream",
          "name": "stdout",
          "text": [
            "\b\b\b\b\b\b\b\b\b\b\b\b\b\b\b\b\b\b\b\b\b\b\b\b\b\b\b\b\b\b\b\b\b\b\b\b\b\b\b\b\b\b\b\b\b\b\b\b\b\b\b\b\b\b\b\b\b\b\b\b\b\b\b\b\b\r17/17 [==============================] - 0s 3ms/step - loss: 142.6017\n",
            "Epoch 17/100\n",
            "16/17 [===========================>..] - ETA: 0s - loss: 131.4695"
          ]
        },
        {
          "output_type": "stream",
          "name": "stderr",
          "text": [
            "WARNING:tensorflow:Early stopping conditioned on metric `mean_squared_error` which is not available. Available metrics are: loss\n"
          ]
        },
        {
          "output_type": "stream",
          "name": "stdout",
          "text": [
            "\b\b\b\b\b\b\b\b\b\b\b\b\b\b\b\b\b\b\b\b\b\b\b\b\b\b\b\b\b\b\b\b\b\b\b\b\b\b\b\b\b\b\b\b\b\b\b\b\b\b\b\b\b\b\b\b\b\b\b\b\b\b\b\b\b\r17/17 [==============================] - 0s 4ms/step - loss: 128.5345\n",
            "Epoch 18/100\n",
            "15/17 [=========================>....] - ETA: 0s - loss: 122.9378"
          ]
        },
        {
          "output_type": "stream",
          "name": "stderr",
          "text": [
            "WARNING:tensorflow:Early stopping conditioned on metric `mean_squared_error` which is not available. Available metrics are: loss\n"
          ]
        },
        {
          "output_type": "stream",
          "name": "stdout",
          "text": [
            "\b\b\b\b\b\b\b\b\b\b\b\b\b\b\b\b\b\b\b\b\b\b\b\b\b\b\b\b\b\b\b\b\b\b\b\b\b\b\b\b\b\b\b\b\b\b\b\b\b\b\b\b\b\b\b\b\b\b\b\b\b\b\b\b\b\r17/17 [==============================] - 0s 4ms/step - loss: 117.1160\n",
            "Epoch 19/100\n",
            "16/17 [===========================>..] - ETA: 0s - loss: 105.3421"
          ]
        },
        {
          "output_type": "stream",
          "name": "stderr",
          "text": [
            "WARNING:tensorflow:Early stopping conditioned on metric `mean_squared_error` which is not available. Available metrics are: loss\n"
          ]
        },
        {
          "output_type": "stream",
          "name": "stdout",
          "text": [
            "\b\b\b\b\b\b\b\b\b\b\b\b\b\b\b\b\b\b\b\b\b\b\b\b\b\b\b\b\b\b\b\b\b\b\b\b\b\b\b\b\b\b\b\b\b\b\b\b\b\b\b\b\b\b\b\b\b\b\b\b\b\b\b\b\b\r17/17 [==============================] - 0s 4ms/step - loss: 107.1648\n",
            "Epoch 20/100\n",
            "16/17 [===========================>..] - ETA: 0s - loss: 101.1139"
          ]
        },
        {
          "output_type": "stream",
          "name": "stderr",
          "text": [
            "WARNING:tensorflow:Early stopping conditioned on metric `mean_squared_error` which is not available. Available metrics are: loss\n"
          ]
        },
        {
          "output_type": "stream",
          "name": "stdout",
          "text": [
            "\b\b\b\b\b\b\b\b\b\b\b\b\b\b\b\b\b\b\b\b\b\b\b\b\b\b\b\b\b\b\b\b\b\b\b\b\b\b\b\b\b\b\b\b\b\b\b\b\b\b\b\b\b\b\b\b\b\b\b\b\b\b\b\b\b\r17/17 [==============================] - 0s 4ms/step - loss: 98.7347\n",
            "Epoch 21/100\n",
            "14/17 [=======================>......] - ETA: 0s - loss: 90.0343 "
          ]
        },
        {
          "output_type": "stream",
          "name": "stderr",
          "text": [
            "WARNING:tensorflow:Early stopping conditioned on metric `mean_squared_error` which is not available. Available metrics are: loss\n"
          ]
        },
        {
          "output_type": "stream",
          "name": "stdout",
          "text": [
            "\b\b\b\b\b\b\b\b\b\b\b\b\b\b\b\b\b\b\b\b\b\b\b\b\b\b\b\b\b\b\b\b\b\b\b\b\b\b\b\b\b\b\b\b\b\b\b\b\b\b\b\b\b\b\b\b\b\b\b\b\b\b\b\b\r17/17 [==============================] - 0s 4ms/step - loss: 91.0355\n",
            "Epoch 22/100\n",
            " 1/17 [>.............................] - ETA: 0s - loss: 60.2302"
          ]
        },
        {
          "output_type": "stream",
          "name": "stderr",
          "text": [
            "WARNING:tensorflow:Early stopping conditioned on metric `mean_squared_error` which is not available. Available metrics are: loss\n"
          ]
        },
        {
          "output_type": "stream",
          "name": "stdout",
          "text": [
            "\b\b\b\b\b\b\b\b\b\b\b\b\b\b\b\b\b\b\b\b\b\b\b\b\b\b\b\b\b\b\b\b\b\b\b\b\b\b\b\b\b\b\b\b\b\b\b\b\b\b\b\b\b\b\b\b\b\b\b\b\b\b\b\b\r17/17 [==============================] - 0s 3ms/step - loss: 85.1941\n",
            "Epoch 23/100\n",
            " 1/17 [>.............................] - ETA: 0s - loss: 69.8972"
          ]
        },
        {
          "output_type": "stream",
          "name": "stderr",
          "text": [
            "WARNING:tensorflow:Early stopping conditioned on metric `mean_squared_error` which is not available. Available metrics are: loss\n"
          ]
        },
        {
          "output_type": "stream",
          "name": "stdout",
          "text": [
            "\b\b\b\b\b\b\b\b\b\b\b\b\b\b\b\b\b\b\b\b\b\b\b\b\b\b\b\b\b\b\b\b\b\b\b\b\b\b\b\b\b\b\b\b\b\b\b\b\b\b\b\b\b\b\b\b\b\b\b\b\b\b\b\b\r17/17 [==============================] - 0s 3ms/step - loss: 79.0141\n",
            "Epoch 24/100\n",
            " 1/17 [>.............................] - ETA: 0s - loss: 47.4465"
          ]
        },
        {
          "output_type": "stream",
          "name": "stderr",
          "text": [
            "WARNING:tensorflow:Early stopping conditioned on metric `mean_squared_error` which is not available. Available metrics are: loss\n"
          ]
        },
        {
          "output_type": "stream",
          "name": "stdout",
          "text": [
            "\b\b\b\b\b\b\b\b\b\b\b\b\b\b\b\b\b\b\b\b\b\b\b\b\b\b\b\b\b\b\b\b\b\b\b\b\b\b\b\b\b\b\b\b\b\b\b\b\b\b\b\b\b\b\b\b\b\b\b\b\b\b\b\b\r17/17 [==============================] - 0s 3ms/step - loss: 73.7506\n",
            "Epoch 25/100\n",
            "12/17 [====================>.........] - ETA: 0s - loss: 72.0846"
          ]
        },
        {
          "output_type": "stream",
          "name": "stderr",
          "text": [
            "WARNING:tensorflow:Early stopping conditioned on metric `mean_squared_error` which is not available. Available metrics are: loss\n"
          ]
        },
        {
          "output_type": "stream",
          "name": "stdout",
          "text": [
            "\b\b\b\b\b\b\b\b\b\b\b\b\b\b\b\b\b\b\b\b\b\b\b\b\b\b\b\b\b\b\b\b\b\b\b\b\b\b\b\b\b\b\b\b\b\b\b\b\b\b\b\b\b\b\b\b\b\b\b\b\b\b\b\b\r17/17 [==============================] - 0s 5ms/step - loss: 69.3250\n",
            "Epoch 26/100\n",
            "14/17 [=======================>......] - ETA: 0s - loss: 67.1038"
          ]
        },
        {
          "output_type": "stream",
          "name": "stderr",
          "text": [
            "WARNING:tensorflow:Early stopping conditioned on metric `mean_squared_error` which is not available. Available metrics are: loss\n"
          ]
        },
        {
          "output_type": "stream",
          "name": "stdout",
          "text": [
            "\b\b\b\b\b\b\b\b\b\b\b\b\b\b\b\b\b\b\b\b\b\b\b\b\b\b\b\b\b\b\b\b\b\b\b\b\b\b\b\b\b\b\b\b\b\b\b\b\b\b\b\b\b\b\b\b\b\b\b\b\b\b\b\b\r17/17 [==============================] - 0s 4ms/step - loss: 65.2906\n",
            "Epoch 27/100\n",
            "16/17 [===========================>..] - ETA: 0s - loss: 58.8941"
          ]
        },
        {
          "output_type": "stream",
          "name": "stderr",
          "text": [
            "WARNING:tensorflow:Early stopping conditioned on metric `mean_squared_error` which is not available. Available metrics are: loss\n"
          ]
        },
        {
          "output_type": "stream",
          "name": "stdout",
          "text": [
            "\b\b\b\b\b\b\b\b\b\b\b\b\b\b\b\b\b\b\b\b\b\b\b\b\b\b\b\b\b\b\b\b\b\b\b\b\b\b\b\b\b\b\b\b\b\b\b\b\b\b\b\b\b\b\b\b\b\b\b\b\b\b\b\b\r17/17 [==============================] - 0s 4ms/step - loss: 60.7818\n",
            "Epoch 28/100\n",
            "14/17 [=======================>......] - ETA: 0s - loss: 56.4247"
          ]
        },
        {
          "output_type": "stream",
          "name": "stderr",
          "text": [
            "WARNING:tensorflow:Early stopping conditioned on metric `mean_squared_error` which is not available. Available metrics are: loss\n"
          ]
        },
        {
          "output_type": "stream",
          "name": "stdout",
          "text": [
            "\b\b\b\b\b\b\b\b\b\b\b\b\b\b\b\b\b\b\b\b\b\b\b\b\b\b\b\b\b\b\b\b\b\b\b\b\b\b\b\b\b\b\b\b\b\b\b\b\b\b\b\b\b\b\b\b\b\b\b\b\b\b\b\b\r17/17 [==============================] - 0s 5ms/step - loss: 56.2759\n",
            "Epoch 29/100\n",
            "14/17 [=======================>......] - ETA: 0s - loss: 54.5626"
          ]
        },
        {
          "output_type": "stream",
          "name": "stderr",
          "text": [
            "WARNING:tensorflow:Early stopping conditioned on metric `mean_squared_error` which is not available. Available metrics are: loss\n"
          ]
        },
        {
          "output_type": "stream",
          "name": "stdout",
          "text": [
            "\b\b\b\b\b\b\b\b\b\b\b\b\b\b\b\b\b\b\b\b\b\b\b\b\b\b\b\b\b\b\b\b\b\b\b\b\b\b\b\b\b\b\b\b\b\b\b\b\b\b\b\b\b\b\b\b\b\b\b\b\b\b\b\b\r17/17 [==============================] - 0s 5ms/step - loss: 54.1805\n",
            "Epoch 30/100\n",
            "17/17 [==============================] - ETA: 0s - loss: 49.0913"
          ]
        },
        {
          "output_type": "stream",
          "name": "stderr",
          "text": [
            "WARNING:tensorflow:Early stopping conditioned on metric `mean_squared_error` which is not available. Available metrics are: loss\n"
          ]
        },
        {
          "output_type": "stream",
          "name": "stdout",
          "text": [
            "\b\b\b\b\b\b\b\b\b\b\b\b\b\b\b\b\b\b\b\b\b\b\b\b\b\b\b\b\b\b\b\b\b\b\b\b\b\b\b\b\b\b\b\b\b\b\b\b\b\b\b\b\b\b\b\b\b\b\b\b\b\b\b\b\r17/17 [==============================] - 0s 4ms/step - loss: 49.0913\n",
            "Epoch 31/100\n",
            "17/17 [==============================] - ETA: 0s - loss: 45.8455"
          ]
        },
        {
          "output_type": "stream",
          "name": "stderr",
          "text": [
            "WARNING:tensorflow:Early stopping conditioned on metric `mean_squared_error` which is not available. Available metrics are: loss\n"
          ]
        },
        {
          "output_type": "stream",
          "name": "stdout",
          "text": [
            "\b\b\b\b\b\b\b\b\b\b\b\b\b\b\b\b\b\b\b\b\b\b\b\b\b\b\b\b\b\b\b\b\b\b\b\b\b\b\b\b\b\b\b\b\b\b\b\b\b\b\b\b\b\b\b\b\b\b\b\b\b\b\b\b\r17/17 [==============================] - 0s 4ms/step - loss: 45.8455\n",
            "Epoch 32/100\n",
            "14/17 [=======================>......] - ETA: 0s - loss: 43.7207"
          ]
        },
        {
          "output_type": "stream",
          "name": "stderr",
          "text": [
            "WARNING:tensorflow:Early stopping conditioned on metric `mean_squared_error` which is not available. Available metrics are: loss\n"
          ]
        },
        {
          "output_type": "stream",
          "name": "stdout",
          "text": [
            "\b\b\b\b\b\b\b\b\b\b\b\b\b\b\b\b\b\b\b\b\b\b\b\b\b\b\b\b\b\b\b\b\b\b\b\b\b\b\b\b\b\b\b\b\b\b\b\b\b\b\b\b\b\b\b\b\b\b\b\b\b\b\b\b\r17/17 [==============================] - 0s 4ms/step - loss: 43.1266\n",
            "Epoch 33/100\n",
            "14/17 [=======================>......] - ETA: 0s - loss: 40.8052"
          ]
        },
        {
          "output_type": "stream",
          "name": "stderr",
          "text": [
            "WARNING:tensorflow:Early stopping conditioned on metric `mean_squared_error` which is not available. Available metrics are: loss\n"
          ]
        },
        {
          "output_type": "stream",
          "name": "stdout",
          "text": [
            "\b\b\b\b\b\b\b\b\b\b\b\b\b\b\b\b\b\b\b\b\b\b\b\b\b\b\b\b\b\b\b\b\b\b\b\b\b\b\b\b\b\b\b\b\b\b\b\b\b\b\b\b\b\b\b\b\b\b\b\b\b\b\b\b\r17/17 [==============================] - 0s 4ms/step - loss: 40.2143\n",
            "Epoch 34/100\n",
            " 1/17 [>.............................] - ETA: 0s - loss: 45.9552"
          ]
        },
        {
          "output_type": "stream",
          "name": "stderr",
          "text": [
            "WARNING:tensorflow:Early stopping conditioned on metric `mean_squared_error` which is not available. Available metrics are: loss\n"
          ]
        },
        {
          "output_type": "stream",
          "name": "stdout",
          "text": [
            "\b\b\b\b\b\b\b\b\b\b\b\b\b\b\b\b\b\b\b\b\b\b\b\b\b\b\b\b\b\b\b\b\b\b\b\b\b\b\b\b\b\b\b\b\b\b\b\b\b\b\b\b\b\b\b\b\b\b\b\b\b\b\b\b\r17/17 [==============================] - 0s 3ms/step - loss: 37.6295\n",
            "Epoch 35/100\n",
            " 1/17 [>.............................] - ETA: 0s - loss: 54.9251"
          ]
        },
        {
          "output_type": "stream",
          "name": "stderr",
          "text": [
            "WARNING:tensorflow:Early stopping conditioned on metric `mean_squared_error` which is not available. Available metrics are: loss\n"
          ]
        },
        {
          "output_type": "stream",
          "name": "stdout",
          "text": [
            "\b\b\b\b\b\b\b\b\b\b\b\b\b\b\b\b\b\b\b\b\b\b\b\b\b\b\b\b\b\b\b\b\b\b\b\b\b\b\b\b\b\b\b\b\b\b\b\b\b\b\b\b\b\b\b\b\b\b\b\b\b\b\b\b\r17/17 [==============================] - 0s 3ms/step - loss: 35.7077\n",
            "Epoch 36/100\n",
            " 1/17 [>.............................] - ETA: 0s - loss: 35.3607"
          ]
        },
        {
          "output_type": "stream",
          "name": "stderr",
          "text": [
            "WARNING:tensorflow:Early stopping conditioned on metric `mean_squared_error` which is not available. Available metrics are: loss\n"
          ]
        },
        {
          "output_type": "stream",
          "name": "stdout",
          "text": [
            "\b\b\b\b\b\b\b\b\b\b\b\b\b\b\b\b\b\b\b\b\b\b\b\b\b\b\b\b\b\b\b\b\b\b\b\b\b\b\b\b\b\b\b\b\b\b\b\b\b\b\b\b\b\b\b\b\b\b\b\b\b\b\b\b\r17/17 [==============================] - 0s 3ms/step - loss: 33.0738\n",
            "Epoch 37/100\n",
            " 1/17 [>.............................] - ETA: 0s - loss: 25.2909"
          ]
        },
        {
          "output_type": "stream",
          "name": "stderr",
          "text": [
            "WARNING:tensorflow:Early stopping conditioned on metric `mean_squared_error` which is not available. Available metrics are: loss\n"
          ]
        },
        {
          "output_type": "stream",
          "name": "stdout",
          "text": [
            "\b\b\b\b\b\b\b\b\b\b\b\b\b\b\b\b\b\b\b\b\b\b\b\b\b\b\b\b\b\b\b\b\b\b\b\b\b\b\b\b\b\b\b\b\b\b\b\b\b\b\b\b\b\b\b\b\b\b\b\b\b\b\b\b\r17/17 [==============================] - 0s 3ms/step - loss: 30.7302\n",
            "Epoch 38/100\n",
            "17/17 [==============================] - ETA: 0s - loss: 29.1698"
          ]
        },
        {
          "output_type": "stream",
          "name": "stderr",
          "text": [
            "WARNING:tensorflow:Early stopping conditioned on metric `mean_squared_error` which is not available. Available metrics are: loss\n"
          ]
        },
        {
          "output_type": "stream",
          "name": "stdout",
          "text": [
            "\b\b\b\b\b\b\b\b\b\b\b\b\b\b\b\b\b\b\b\b\b\b\b\b\b\b\b\b\b\b\b\b\b\b\b\b\b\b\b\b\b\b\b\b\b\b\b\b\b\b\b\b\b\b\b\b\b\b\b\b\b\b\b\b\r17/17 [==============================] - 0s 4ms/step - loss: 29.1698\n",
            "Epoch 39/100\n",
            "14/17 [=======================>......] - ETA: 0s - loss: 27.6436"
          ]
        },
        {
          "output_type": "stream",
          "name": "stderr",
          "text": [
            "WARNING:tensorflow:Early stopping conditioned on metric `mean_squared_error` which is not available. Available metrics are: loss\n"
          ]
        },
        {
          "output_type": "stream",
          "name": "stdout",
          "text": [
            "\b\b\b\b\b\b\b\b\b\b\b\b\b\b\b\b\b\b\b\b\b\b\b\b\b\b\b\b\b\b\b\b\b\b\b\b\b\b\b\b\b\b\b\b\b\b\b\b\b\b\b\b\b\b\b\b\b\b\b\b\b\b\b\b\r17/17 [==============================] - 0s 5ms/step - loss: 27.3940\n",
            "Epoch 40/100\n",
            "12/17 [====================>.........] - ETA: 0s - loss: 25.3785"
          ]
        },
        {
          "output_type": "stream",
          "name": "stderr",
          "text": [
            "WARNING:tensorflow:Early stopping conditioned on metric `mean_squared_error` which is not available. Available metrics are: loss\n"
          ]
        },
        {
          "output_type": "stream",
          "name": "stdout",
          "text": [
            "\b\b\b\b\b\b\b\b\b\b\b\b\b\b\b\b\b\b\b\b\b\b\b\b\b\b\b\b\b\b\b\b\b\b\b\b\b\b\b\b\b\b\b\b\b\b\b\b\b\b\b\b\b\b\b\b\b\b\b\b\b\b\b\b\r17/17 [==============================] - 0s 5ms/step - loss: 26.2213\n",
            "Epoch 41/100\n",
            "12/17 [====================>.........] - ETA: 0s - loss: 25.9635"
          ]
        },
        {
          "output_type": "stream",
          "name": "stderr",
          "text": [
            "WARNING:tensorflow:Early stopping conditioned on metric `mean_squared_error` which is not available. Available metrics are: loss\n"
          ]
        },
        {
          "output_type": "stream",
          "name": "stdout",
          "text": [
            "\b\b\b\b\b\b\b\b\b\b\b\b\b\b\b\b\b\b\b\b\b\b\b\b\b\b\b\b\b\b\b\b\b\b\b\b\b\b\b\b\b\b\b\b\b\b\b\b\b\b\b\b\b\b\b\b\b\b\b\b\b\b\b\b\r17/17 [==============================] - 0s 5ms/step - loss: 23.9941\n",
            "Epoch 42/100\n",
            "13/17 [=====================>........] - ETA: 0s - loss: 22.7998"
          ]
        },
        {
          "output_type": "stream",
          "name": "stderr",
          "text": [
            "WARNING:tensorflow:Early stopping conditioned on metric `mean_squared_error` which is not available. Available metrics are: loss\n"
          ]
        },
        {
          "output_type": "stream",
          "name": "stdout",
          "text": [
            "\b\b\b\b\b\b\b\b\b\b\b\b\b\b\b\b\b\b\b\b\b\b\b\b\b\b\b\b\b\b\b\b\b\b\b\b\b\b\b\b\b\b\b\b\b\b\b\b\b\b\b\b\b\b\b\b\b\b\b\b\b\b\b\b\r17/17 [==============================] - 0s 4ms/step - loss: 23.5801\n",
            "Epoch 43/100\n",
            "16/17 [===========================>..] - ETA: 0s - loss: 21.7691"
          ]
        },
        {
          "output_type": "stream",
          "name": "stderr",
          "text": [
            "WARNING:tensorflow:Early stopping conditioned on metric `mean_squared_error` which is not available. Available metrics are: loss\n"
          ]
        },
        {
          "output_type": "stream",
          "name": "stdout",
          "text": [
            "\b\b\b\b\b\b\b\b\b\b\b\b\b\b\b\b\b\b\b\b\b\b\b\b\b\b\b\b\b\b\b\b\b\b\b\b\b\b\b\b\b\b\b\b\b\b\b\b\b\b\b\b\b\b\b\b\b\b\b\b\b\b\b\b\r17/17 [==============================] - 0s 4ms/step - loss: 21.5366\n",
            "Epoch 44/100\n",
            " 1/17 [>.............................] - ETA: 0s - loss: 14.6857"
          ]
        },
        {
          "output_type": "stream",
          "name": "stderr",
          "text": [
            "WARNING:tensorflow:Early stopping conditioned on metric `mean_squared_error` which is not available. Available metrics are: loss\n"
          ]
        },
        {
          "output_type": "stream",
          "name": "stdout",
          "text": [
            "\b\b\b\b\b\b\b\b\b\b\b\b\b\b\b\b\b\b\b\b\b\b\b\b\b\b\b\b\b\b\b\b\b\b\b\b\b\b\b\b\b\b\b\b\b\b\b\b\b\b\b\b\b\b\b\b\b\b\b\b\b\b\b\b\r17/17 [==============================] - 0s 3ms/step - loss: 20.7072\n",
            "Epoch 45/100\n",
            " 1/17 [>.............................] - ETA: 0s - loss: 12.6429"
          ]
        },
        {
          "output_type": "stream",
          "name": "stderr",
          "text": [
            "WARNING:tensorflow:Early stopping conditioned on metric `mean_squared_error` which is not available. Available metrics are: loss\n"
          ]
        },
        {
          "output_type": "stream",
          "name": "stdout",
          "text": [
            "\b\b\b\b\b\b\b\b\b\b\b\b\b\b\b\b\b\b\b\b\b\b\b\b\b\b\b\b\b\b\b\b\b\b\b\b\b\b\b\b\b\b\b\b\b\b\b\b\b\b\b\b\b\b\b\b\b\b\b\b\b\b\b\b\r17/17 [==============================] - 0s 3ms/step - loss: 19.4321\n",
            "Epoch 46/100\n",
            " 1/17 [>.............................] - ETA: 0s - loss: 23.0753"
          ]
        },
        {
          "output_type": "stream",
          "name": "stderr",
          "text": [
            "WARNING:tensorflow:Early stopping conditioned on metric `mean_squared_error` which is not available. Available metrics are: loss\n"
          ]
        },
        {
          "output_type": "stream",
          "name": "stdout",
          "text": [
            "\b\b\b\b\b\b\b\b\b\b\b\b\b\b\b\b\b\b\b\b\b\b\b\b\b\b\b\b\b\b\b\b\b\b\b\b\b\b\b\b\b\b\b\b\b\b\b\b\b\b\b\b\b\b\b\b\b\b\b\b\b\b\b\b\r17/17 [==============================] - 0s 3ms/step - loss: 18.9258\n",
            "Epoch 47/100\n",
            " 1/17 [>.............................] - ETA: 0s - loss: 15.2093"
          ]
        },
        {
          "output_type": "stream",
          "name": "stderr",
          "text": [
            "WARNING:tensorflow:Early stopping conditioned on metric `mean_squared_error` which is not available. Available metrics are: loss\n"
          ]
        },
        {
          "output_type": "stream",
          "name": "stdout",
          "text": [
            "\b\b\b\b\b\b\b\b\b\b\b\b\b\b\b\b\b\b\b\b\b\b\b\b\b\b\b\b\b\b\b\b\b\b\b\b\b\b\b\b\b\b\b\b\b\b\b\b\b\b\b\b\b\b\b\b\b\b\b\b\b\b\b\b\r17/17 [==============================] - 0s 3ms/step - loss: 18.2033\n",
            "Epoch 48/100\n",
            " 1/17 [>.............................] - ETA: 0s - loss: 15.9924"
          ]
        },
        {
          "output_type": "stream",
          "name": "stderr",
          "text": [
            "WARNING:tensorflow:Early stopping conditioned on metric `mean_squared_error` which is not available. Available metrics are: loss\n"
          ]
        },
        {
          "output_type": "stream",
          "name": "stdout",
          "text": [
            "\b\b\b\b\b\b\b\b\b\b\b\b\b\b\b\b\b\b\b\b\b\b\b\b\b\b\b\b\b\b\b\b\b\b\b\b\b\b\b\b\b\b\b\b\b\b\b\b\b\b\b\b\b\b\b\b\b\b\b\b\b\b\b\b\r17/17 [==============================] - 0s 3ms/step - loss: 17.6308\n",
            "Epoch 49/100\n",
            " 1/17 [>.............................] - ETA: 0s - loss: 15.7681"
          ]
        },
        {
          "output_type": "stream",
          "name": "stderr",
          "text": [
            "WARNING:tensorflow:Early stopping conditioned on metric `mean_squared_error` which is not available. Available metrics are: loss\n"
          ]
        },
        {
          "output_type": "stream",
          "name": "stdout",
          "text": [
            "\b\b\b\b\b\b\b\b\b\b\b\b\b\b\b\b\b\b\b\b\b\b\b\b\b\b\b\b\b\b\b\b\b\b\b\b\b\b\b\b\b\b\b\b\b\b\b\b\b\b\b\b\b\b\b\b\b\b\b\b\b\b\b\b\r17/17 [==============================] - 0s 3ms/step - loss: 16.8461\n",
            "Epoch 50/100\n",
            " 1/17 [>.............................] - ETA: 0s - loss: 21.6449"
          ]
        },
        {
          "output_type": "stream",
          "name": "stderr",
          "text": [
            "WARNING:tensorflow:Early stopping conditioned on metric `mean_squared_error` which is not available. Available metrics are: loss\n"
          ]
        },
        {
          "output_type": "stream",
          "name": "stdout",
          "text": [
            "\b\b\b\b\b\b\b\b\b\b\b\b\b\b\b\b\b\b\b\b\b\b\b\b\b\b\b\b\b\b\b\b\b\b\b\b\b\b\b\b\b\b\b\b\b\b\b\b\b\b\b\b\b\b\b\b\b\b\b\b\b\b\b\b\r17/17 [==============================] - 0s 3ms/step - loss: 16.6048\n",
            "Epoch 51/100\n",
            "15/17 [=========================>....] - ETA: 0s - loss: 16.2327"
          ]
        },
        {
          "output_type": "stream",
          "name": "stderr",
          "text": [
            "WARNING:tensorflow:Early stopping conditioned on metric `mean_squared_error` which is not available. Available metrics are: loss\n"
          ]
        },
        {
          "output_type": "stream",
          "name": "stdout",
          "text": [
            "\b\b\b\b\b\b\b\b\b\b\b\b\b\b\b\b\b\b\b\b\b\b\b\b\b\b\b\b\b\b\b\b\b\b\b\b\b\b\b\b\b\b\b\b\b\b\b\b\b\b\b\b\b\b\b\b\b\b\b\b\b\b\b\b\r17/17 [==============================] - 0s 4ms/step - loss: 15.8153\n",
            "Epoch 52/100\n",
            "14/17 [=======================>......] - ETA: 0s - loss: 15.8220"
          ]
        },
        {
          "output_type": "stream",
          "name": "stderr",
          "text": [
            "WARNING:tensorflow:Early stopping conditioned on metric `mean_squared_error` which is not available. Available metrics are: loss\n"
          ]
        },
        {
          "output_type": "stream",
          "name": "stdout",
          "text": [
            "\b\b\b\b\b\b\b\b\b\b\b\b\b\b\b\b\b\b\b\b\b\b\b\b\b\b\b\b\b\b\b\b\b\b\b\b\b\b\b\b\b\b\b\b\b\b\b\b\b\b\b\b\b\b\b\b\b\b\b\b\b\b\b\b\r17/17 [==============================] - 0s 4ms/step - loss: 15.6643\n",
            "Epoch 53/100\n",
            "12/17 [====================>.........] - ETA: 0s - loss: 16.5151"
          ]
        },
        {
          "output_type": "stream",
          "name": "stderr",
          "text": [
            "WARNING:tensorflow:Early stopping conditioned on metric `mean_squared_error` which is not available. Available metrics are: loss\n"
          ]
        },
        {
          "output_type": "stream",
          "name": "stdout",
          "text": [
            "\b\b\b\b\b\b\b\b\b\b\b\b\b\b\b\b\b\b\b\b\b\b\b\b\b\b\b\b\b\b\b\b\b\b\b\b\b\b\b\b\b\b\b\b\b\b\b\b\b\b\b\b\b\b\b\b\b\b\b\b\b\b\b\b\r17/17 [==============================] - 0s 5ms/step - loss: 14.9118\n",
            "Epoch 54/100\n",
            "14/17 [=======================>......] - ETA: 0s - loss: 14.5218"
          ]
        },
        {
          "output_type": "stream",
          "name": "stderr",
          "text": [
            "WARNING:tensorflow:Early stopping conditioned on metric `mean_squared_error` which is not available. Available metrics are: loss\n"
          ]
        },
        {
          "output_type": "stream",
          "name": "stdout",
          "text": [
            "\b\b\b\b\b\b\b\b\b\b\b\b\b\b\b\b\b\b\b\b\b\b\b\b\b\b\b\b\b\b\b\b\b\b\b\b\b\b\b\b\b\b\b\b\b\b\b\b\b\b\b\b\b\b\b\b\b\b\b\b\b\b\b\b\r17/17 [==============================] - 0s 4ms/step - loss: 14.6396\n",
            "Epoch 55/100\n",
            "16/17 [===========================>..] - ETA: 0s - loss: 14.1653"
          ]
        },
        {
          "output_type": "stream",
          "name": "stderr",
          "text": [
            "WARNING:tensorflow:Early stopping conditioned on metric `mean_squared_error` which is not available. Available metrics are: loss\n"
          ]
        },
        {
          "output_type": "stream",
          "name": "stdout",
          "text": [
            "\b\b\b\b\b\b\b\b\b\b\b\b\b\b\b\b\b\b\b\b\b\b\b\b\b\b\b\b\b\b\b\b\b\b\b\b\b\b\b\b\b\b\b\b\b\b\b\b\b\b\b\b\b\b\b\b\b\b\b\b\b\b\b\b\r17/17 [==============================] - 0s 4ms/step - loss: 14.1346\n",
            "Epoch 56/100\n",
            " 1/17 [>.............................] - ETA: 0s - loss: 18.3291"
          ]
        },
        {
          "output_type": "stream",
          "name": "stderr",
          "text": [
            "WARNING:tensorflow:Early stopping conditioned on metric `mean_squared_error` which is not available. Available metrics are: loss\n"
          ]
        },
        {
          "output_type": "stream",
          "name": "stdout",
          "text": [
            "\b\b\b\b\b\b\b\b\b\b\b\b\b\b\b\b\b\b\b\b\b\b\b\b\b\b\b\b\b\b\b\b\b\b\b\b\b\b\b\b\b\b\b\b\b\b\b\b\b\b\b\b\b\b\b\b\b\b\b\b\b\b\b\b\r17/17 [==============================] - 0s 3ms/step - loss: 13.7105\n",
            "Epoch 57/100\n",
            "16/17 [===========================>..] - ETA: 0s - loss: 13.6542"
          ]
        },
        {
          "output_type": "stream",
          "name": "stderr",
          "text": [
            "WARNING:tensorflow:Early stopping conditioned on metric `mean_squared_error` which is not available. Available metrics are: loss\n"
          ]
        },
        {
          "output_type": "stream",
          "name": "stdout",
          "text": [
            "\b\b\b\b\b\b\b\b\b\b\b\b\b\b\b\b\b\b\b\b\b\b\b\b\b\b\b\b\b\b\b\b\b\b\b\b\b\b\b\b\b\b\b\b\b\b\b\b\b\b\b\b\b\b\b\b\b\b\b\b\b\b\b\b\r17/17 [==============================] - 0s 4ms/step - loss: 13.2748\n",
            "Epoch 58/100\n",
            "14/17 [=======================>......] - ETA: 0s - loss: 13.8202"
          ]
        },
        {
          "output_type": "stream",
          "name": "stderr",
          "text": [
            "WARNING:tensorflow:Early stopping conditioned on metric `mean_squared_error` which is not available. Available metrics are: loss\n"
          ]
        },
        {
          "output_type": "stream",
          "name": "stdout",
          "text": [
            "\b\b\b\b\b\b\b\b\b\b\b\b\b\b\b\b\b\b\b\b\b\b\b\b\b\b\b\b\b\b\b\b\b\b\b\b\b\b\b\b\b\b\b\b\b\b\b\b\b\b\b\b\b\b\b\b\b\b\b\b\b\b\b\b\r17/17 [==============================] - 0s 4ms/step - loss: 13.0954\n",
            "Epoch 59/100\n",
            "15/17 [=========================>....] - ETA: 0s - loss: 12.9930"
          ]
        },
        {
          "output_type": "stream",
          "name": "stderr",
          "text": [
            "WARNING:tensorflow:Early stopping conditioned on metric `mean_squared_error` which is not available. Available metrics are: loss\n"
          ]
        },
        {
          "output_type": "stream",
          "name": "stdout",
          "text": [
            "\b\b\b\b\b\b\b\b\b\b\b\b\b\b\b\b\b\b\b\b\b\b\b\b\b\b\b\b\b\b\b\b\b\b\b\b\b\b\b\b\b\b\b\b\b\b\b\b\b\b\b\b\b\b\b\b\b\b\b\b\b\b\b\b\r17/17 [==============================] - 0s 4ms/step - loss: 12.7863\n",
            "Epoch 60/100\n",
            " 1/17 [>.............................] - ETA: 0s - loss: 10.0479"
          ]
        },
        {
          "output_type": "stream",
          "name": "stderr",
          "text": [
            "WARNING:tensorflow:Early stopping conditioned on metric `mean_squared_error` which is not available. Available metrics are: loss\n"
          ]
        },
        {
          "output_type": "stream",
          "name": "stdout",
          "text": [
            "\b\b\b\b\b\b\b\b\b\b\b\b\b\b\b\b\b\b\b\b\b\b\b\b\b\b\b\b\b\b\b\b\b\b\b\b\b\b\b\b\b\b\b\b\b\b\b\b\b\b\b\b\b\b\b\b\b\b\b\b\b\b\b\b\r17/17 [==============================] - 0s 3ms/step - loss: 12.7076\n",
            "Epoch 61/100\n",
            "15/17 [=========================>....] - ETA: 0s - loss: 12.4613"
          ]
        },
        {
          "output_type": "stream",
          "name": "stderr",
          "text": [
            "WARNING:tensorflow:Early stopping conditioned on metric `mean_squared_error` which is not available. Available metrics are: loss\n"
          ]
        },
        {
          "output_type": "stream",
          "name": "stdout",
          "text": [
            "\b\b\b\b\b\b\b\b\b\b\b\b\b\b\b\b\b\b\b\b\b\b\b\b\b\b\b\b\b\b\b\b\b\b\b\b\b\b\b\b\b\b\b\b\b\b\b\b\b\b\b\b\b\b\b\b\b\b\b\b\b\b\b\b\r17/17 [==============================] - 0s 4ms/step - loss: 12.8057\n",
            "Epoch 62/100\n",
            "14/17 [=======================>......] - ETA: 0s - loss: 11.8803"
          ]
        },
        {
          "output_type": "stream",
          "name": "stderr",
          "text": [
            "WARNING:tensorflow:Early stopping conditioned on metric `mean_squared_error` which is not available. Available metrics are: loss\n"
          ]
        },
        {
          "output_type": "stream",
          "name": "stdout",
          "text": [
            "\b\b\b\b\b\b\b\b\b\b\b\b\b\b\b\b\b\b\b\b\b\b\b\b\b\b\b\b\b\b\b\b\b\b\b\b\b\b\b\b\b\b\b\b\b\b\b\b\b\b\b\b\b\b\b\b\b\b\b\b\b\b\b\b\r17/17 [==============================] - 0s 5ms/step - loss: 12.1831\n",
            "Epoch 63/100\n",
            "14/17 [=======================>......] - ETA: 0s - loss: 12.6203"
          ]
        },
        {
          "output_type": "stream",
          "name": "stderr",
          "text": [
            "WARNING:tensorflow:Early stopping conditioned on metric `mean_squared_error` which is not available. Available metrics are: loss\n"
          ]
        },
        {
          "output_type": "stream",
          "name": "stdout",
          "text": [
            "\b\b\b\b\b\b\b\b\b\b\b\b\b\b\b\b\b\b\b\b\b\b\b\b\b\b\b\b\b\b\b\b\b\b\b\b\b\b\b\b\b\b\b\b\b\b\b\b\b\b\b\b\b\b\b\b\b\b\b\b\b\b\b\b\r17/17 [==============================] - 0s 5ms/step - loss: 12.0236\n",
            "Epoch 64/100\n",
            "14/17 [=======================>......] - ETA: 0s - loss: 11.9416"
          ]
        },
        {
          "output_type": "stream",
          "name": "stderr",
          "text": [
            "WARNING:tensorflow:Early stopping conditioned on metric `mean_squared_error` which is not available. Available metrics are: loss\n"
          ]
        },
        {
          "output_type": "stream",
          "name": "stdout",
          "text": [
            "\b\b\b\b\b\b\b\b\b\b\b\b\b\b\b\b\b\b\b\b\b\b\b\b\b\b\b\b\b\b\b\b\b\b\b\b\b\b\b\b\b\b\b\b\b\b\b\b\b\b\b\b\b\b\b\b\b\b\b\b\b\b\b\b\r17/17 [==============================] - 0s 8ms/step - loss: 11.5015\n",
            "Epoch 65/100\n",
            "15/17 [=========================>....] - ETA: 0s - loss: 11.1001"
          ]
        },
        {
          "output_type": "stream",
          "name": "stderr",
          "text": [
            "WARNING:tensorflow:Early stopping conditioned on metric `mean_squared_error` which is not available. Available metrics are: loss\n"
          ]
        },
        {
          "output_type": "stream",
          "name": "stdout",
          "text": [
            "\b\b\b\b\b\b\b\b\b\b\b\b\b\b\b\b\b\b\b\b\b\b\b\b\b\b\b\b\b\b\b\b\b\b\b\b\b\b\b\b\b\b\b\b\b\b\b\b\b\b\b\b\b\b\b\b\b\b\b\b\b\b\b\b\r17/17 [==============================] - 0s 8ms/step - loss: 11.4484\n",
            "Epoch 66/100\n",
            "17/17 [==============================] - ETA: 0s - loss: 11.6434"
          ]
        },
        {
          "output_type": "stream",
          "name": "stderr",
          "text": [
            "WARNING:tensorflow:Early stopping conditioned on metric `mean_squared_error` which is not available. Available metrics are: loss\n"
          ]
        },
        {
          "output_type": "stream",
          "name": "stdout",
          "text": [
            "\b\b\b\b\b\b\b\b\b\b\b\b\b\b\b\b\b\b\b\b\b\b\b\b\b\b\b\b\b\b\b\b\b\b\b\b\b\b\b\b\b\b\b\b\b\b\b\b\b\b\b\b\b\b\b\b\b\b\b\b\b\b\b\b\r17/17 [==============================] - 0s 7ms/step - loss: 11.6434\n",
            "Epoch 67/100\n",
            "10/17 [================>.............] - ETA: 0s - loss: 12.5202"
          ]
        },
        {
          "output_type": "stream",
          "name": "stderr",
          "text": [
            "WARNING:tensorflow:Early stopping conditioned on metric `mean_squared_error` which is not available. Available metrics are: loss\n"
          ]
        },
        {
          "output_type": "stream",
          "name": "stdout",
          "text": [
            "\b\b\b\b\b\b\b\b\b\b\b\b\b\b\b\b\b\b\b\b\b\b\b\b\b\b\b\b\b\b\b\b\b\b\b\b\b\b\b\b\b\b\b\b\b\b\b\b\b\b\b\b\b\b\b\b\b\b\b\b\b\b\b\b\r17/17 [==============================] - 0s 6ms/step - loss: 11.5680\n",
            "Epoch 68/100\n",
            "11/17 [==================>...........] - ETA: 0s - loss: 10.9355"
          ]
        },
        {
          "output_type": "stream",
          "name": "stderr",
          "text": [
            "WARNING:tensorflow:Early stopping conditioned on metric `mean_squared_error` which is not available. Available metrics are: loss\n"
          ]
        },
        {
          "output_type": "stream",
          "name": "stdout",
          "text": [
            "\b\b\b\b\b\b\b\b\b\b\b\b\b\b\b\b\b\b\b\b\b\b\b\b\b\b\b\b\b\b\b\b\b\b\b\b\b\b\b\b\b\b\b\b\b\b\b\b\b\b\b\b\b\b\b\b\b\b\b\b\b\b\b\b\r17/17 [==============================] - 0s 6ms/step - loss: 10.7538\n",
            "Epoch 69/100\n",
            "11/17 [==================>...........] - ETA: 0s - loss: 9.9041"
          ]
        },
        {
          "output_type": "stream",
          "name": "stderr",
          "text": [
            "WARNING:tensorflow:Early stopping conditioned on metric `mean_squared_error` which is not available. Available metrics are: loss\n"
          ]
        },
        {
          "output_type": "stream",
          "name": "stdout",
          "text": [
            "\b\b\b\b\b\b\b\b\b\b\b\b\b\b\b\b\b\b\b\b\b\b\b\b\b\b\b\b\b\b\b\b\b\b\b\b\b\b\b\b\b\b\b\b\b\b\b\b\b\b\b\b\b\b\b\b\b\b\b\b\b\b\b\r17/17 [==============================] - 0s 6ms/step - loss: 10.4401\n",
            "Epoch 70/100\n",
            "17/17 [==============================] - ETA: 0s - loss: 10.3193"
          ]
        },
        {
          "output_type": "stream",
          "name": "stderr",
          "text": [
            "WARNING:tensorflow:Early stopping conditioned on metric `mean_squared_error` which is not available. Available metrics are: loss\n"
          ]
        },
        {
          "output_type": "stream",
          "name": "stdout",
          "text": [
            "\b\b\b\b\b\b\b\b\b\b\b\b\b\b\b\b\b\b\b\b\b\b\b\b\b\b\b\b\b\b\b\b\b\b\b\b\b\b\b\b\b\b\b\b\b\b\b\b\b\b\b\b\b\b\b\b\b\b\b\b\b\b\b\b\r17/17 [==============================] - 0s 7ms/step - loss: 10.3193\n",
            "Epoch 71/100\n",
            "10/17 [================>.............] - ETA: 0s - loss: 9.8845"
          ]
        },
        {
          "output_type": "stream",
          "name": "stderr",
          "text": [
            "WARNING:tensorflow:Early stopping conditioned on metric `mean_squared_error` which is not available. Available metrics are: loss\n"
          ]
        },
        {
          "output_type": "stream",
          "name": "stdout",
          "text": [
            "\b\b\b\b\b\b\b\b\b\b\b\b\b\b\b\b\b\b\b\b\b\b\b\b\b\b\b\b\b\b\b\b\b\b\b\b\b\b\b\b\b\b\b\b\b\b\b\b\b\b\b\b\b\b\b\b\b\b\b\b\b\b\b\r17/17 [==============================] - 0s 6ms/step - loss: 9.7721\n",
            "Epoch 72/100\n",
            " 1/17 [>.............................] - ETA: 0s - loss: 9.8674"
          ]
        },
        {
          "output_type": "stream",
          "name": "stderr",
          "text": [
            "WARNING:tensorflow:Early stopping conditioned on metric `mean_squared_error` which is not available. Available metrics are: loss\n"
          ]
        },
        {
          "output_type": "stream",
          "name": "stdout",
          "text": [
            "\b\b\b\b\b\b\b\b\b\b\b\b\b\b\b\b\b\b\b\b\b\b\b\b\b\b\b\b\b\b\b\b\b\b\b\b\b\b\b\b\b\b\b\b\b\b\b\b\b\b\b\b\b\b\b\b\b\b\b\b\b\b\b\r17/17 [==============================] - 0s 3ms/step - loss: 9.7699\n",
            "Epoch 73/100\n",
            " 1/17 [>.............................] - ETA: 0s - loss: 7.8039"
          ]
        },
        {
          "output_type": "stream",
          "name": "stderr",
          "text": [
            "WARNING:tensorflow:Early stopping conditioned on metric `mean_squared_error` which is not available. Available metrics are: loss\n"
          ]
        },
        {
          "output_type": "stream",
          "name": "stdout",
          "text": [
            "\b\b\b\b\b\b\b\b\b\b\b\b\b\b\b\b\b\b\b\b\b\b\b\b\b\b\b\b\b\b\b\b\b\b\b\b\b\b\b\b\b\b\b\b\b\b\b\b\b\b\b\b\b\b\b\b\b\b\b\b\b\b\b\r17/17 [==============================] - 0s 2ms/step - loss: 9.2074\n",
            "Epoch 74/100\n",
            " 1/17 [>.............................] - ETA: 0s - loss: 9.9665"
          ]
        },
        {
          "output_type": "stream",
          "name": "stderr",
          "text": [
            "WARNING:tensorflow:Early stopping conditioned on metric `mean_squared_error` which is not available. Available metrics are: loss\n"
          ]
        },
        {
          "output_type": "stream",
          "name": "stdout",
          "text": [
            "\b\b\b\b\b\b\b\b\b\b\b\b\b\b\b\b\b\b\b\b\b\b\b\b\b\b\b\b\b\b\b\b\b\b\b\b\b\b\b\b\b\b\b\b\b\b\b\b\b\b\b\b\b\b\b\b\b\b\b\b\b\b\b\r17/17 [==============================] - 0s 2ms/step - loss: 9.2914\n",
            "Epoch 75/100\n",
            " 1/17 [>.............................] - ETA: 0s - loss: 10.0409"
          ]
        },
        {
          "output_type": "stream",
          "name": "stderr",
          "text": [
            "WARNING:tensorflow:Early stopping conditioned on metric `mean_squared_error` which is not available. Available metrics are: loss\n"
          ]
        },
        {
          "output_type": "stream",
          "name": "stdout",
          "text": [
            "\b\b\b\b\b\b\b\b\b\b\b\b\b\b\b\b\b\b\b\b\b\b\b\b\b\b\b\b\b\b\b\b\b\b\b\b\b\b\b\b\b\b\b\b\b\b\b\b\b\b\b\b\b\b\b\b\b\b\b\b\b\b\b\b\r17/17 [==============================] - 0s 2ms/step - loss: 9.0341\n",
            "Epoch 76/100\n",
            " 1/17 [>.............................] - ETA: 0s - loss: 6.6868"
          ]
        },
        {
          "output_type": "stream",
          "name": "stderr",
          "text": [
            "WARNING:tensorflow:Early stopping conditioned on metric `mean_squared_error` which is not available. Available metrics are: loss\n"
          ]
        },
        {
          "output_type": "stream",
          "name": "stdout",
          "text": [
            "\b\b\b\b\b\b\b\b\b\b\b\b\b\b\b\b\b\b\b\b\b\b\b\b\b\b\b\b\b\b\b\b\b\b\b\b\b\b\b\b\b\b\b\b\b\b\b\b\b\b\b\b\b\b\b\b\b\b\b\b\b\b\b\r17/17 [==============================] - 0s 3ms/step - loss: 8.4501\n",
            "Epoch 77/100\n",
            " 1/17 [>.............................] - ETA: 0s - loss: 6.5981"
          ]
        },
        {
          "output_type": "stream",
          "name": "stderr",
          "text": [
            "WARNING:tensorflow:Early stopping conditioned on metric `mean_squared_error` which is not available. Available metrics are: loss\n"
          ]
        },
        {
          "output_type": "stream",
          "name": "stdout",
          "text": [
            "\b\b\b\b\b\b\b\b\b\b\b\b\b\b\b\b\b\b\b\b\b\b\b\b\b\b\b\b\b\b\b\b\b\b\b\b\b\b\b\b\b\b\b\b\b\b\b\b\b\b\b\b\b\b\b\b\b\b\b\b\b\b\b\r17/17 [==============================] - 0s 3ms/step - loss: 8.3700\n",
            "Epoch 78/100\n",
            " 1/17 [>.............................] - ETA: 0s - loss: 13.1538"
          ]
        },
        {
          "output_type": "stream",
          "name": "stderr",
          "text": [
            "WARNING:tensorflow:Early stopping conditioned on metric `mean_squared_error` which is not available. Available metrics are: loss\n"
          ]
        },
        {
          "output_type": "stream",
          "name": "stdout",
          "text": [
            "\b\b\b\b\b\b\b\b\b\b\b\b\b\b\b\b\b\b\b\b\b\b\b\b\b\b\b\b\b\b\b\b\b\b\b\b\b\b\b\b\b\b\b\b\b\b\b\b\b\b\b\b\b\b\b\b\b\b\b\b\b\b\b\b\r17/17 [==============================] - 0s 3ms/step - loss: 8.3197\n",
            "Epoch 79/100\n",
            " 1/17 [>.............................] - ETA: 0s - loss: 8.4247"
          ]
        },
        {
          "output_type": "stream",
          "name": "stderr",
          "text": [
            "WARNING:tensorflow:Early stopping conditioned on metric `mean_squared_error` which is not available. Available metrics are: loss\n"
          ]
        },
        {
          "output_type": "stream",
          "name": "stdout",
          "text": [
            "\b\b\b\b\b\b\b\b\b\b\b\b\b\b\b\b\b\b\b\b\b\b\b\b\b\b\b\b\b\b\b\b\b\b\b\b\b\b\b\b\b\b\b\b\b\b\b\b\b\b\b\b\b\b\b\b\b\b\b\b\b\b\b\r17/17 [==============================] - 0s 3ms/step - loss: 8.0852\n",
            "Epoch 80/100\n",
            " 1/17 [>.............................] - ETA: 0s - loss: 8.3461"
          ]
        },
        {
          "output_type": "stream",
          "name": "stderr",
          "text": [
            "WARNING:tensorflow:Early stopping conditioned on metric `mean_squared_error` which is not available. Available metrics are: loss\n"
          ]
        },
        {
          "output_type": "stream",
          "name": "stdout",
          "text": [
            "\b\b\b\b\b\b\b\b\b\b\b\b\b\b\b\b\b\b\b\b\b\b\b\b\b\b\b\b\b\b\b\b\b\b\b\b\b\b\b\b\b\b\b\b\b\b\b\b\b\b\b\b\b\b\b\b\b\b\b\b\b\b\b\r17/17 [==============================] - 0s 3ms/step - loss: 7.8598\n",
            "Epoch 81/100\n",
            " 1/17 [>.............................] - ETA: 0s - loss: 6.5475"
          ]
        },
        {
          "output_type": "stream",
          "name": "stderr",
          "text": [
            "WARNING:tensorflow:Early stopping conditioned on metric `mean_squared_error` which is not available. Available metrics are: loss\n"
          ]
        },
        {
          "output_type": "stream",
          "name": "stdout",
          "text": [
            "\b\b\b\b\b\b\b\b\b\b\b\b\b\b\b\b\b\b\b\b\b\b\b\b\b\b\b\b\b\b\b\b\b\b\b\b\b\b\b\b\b\b\b\b\b\b\b\b\b\b\b\b\b\b\b\b\b\b\b\b\b\b\b\r17/17 [==============================] - 0s 3ms/step - loss: 7.7111\n",
            "Epoch 82/100\n",
            " 1/17 [>.............................] - ETA: 0s - loss: 9.1316"
          ]
        },
        {
          "output_type": "stream",
          "name": "stderr",
          "text": [
            "WARNING:tensorflow:Early stopping conditioned on metric `mean_squared_error` which is not available. Available metrics are: loss\n"
          ]
        },
        {
          "output_type": "stream",
          "name": "stdout",
          "text": [
            "\b\b\b\b\b\b\b\b\b\b\b\b\b\b\b\b\b\b\b\b\b\b\b\b\b\b\b\b\b\b\b\b\b\b\b\b\b\b\b\b\b\b\b\b\b\b\b\b\b\b\b\b\b\b\b\b\b\b\b\b\b\b\b\r17/17 [==============================] - 0s 3ms/step - loss: 7.5656\n",
            "Epoch 83/100\n",
            " 1/17 [>.............................] - ETA: 0s - loss: 5.1554"
          ]
        },
        {
          "output_type": "stream",
          "name": "stderr",
          "text": [
            "WARNING:tensorflow:Early stopping conditioned on metric `mean_squared_error` which is not available. Available metrics are: loss\n"
          ]
        },
        {
          "output_type": "stream",
          "name": "stdout",
          "text": [
            "\b\b\b\b\b\b\b\b\b\b\b\b\b\b\b\b\b\b\b\b\b\b\b\b\b\b\b\b\b\b\b\b\b\b\b\b\b\b\b\b\b\b\b\b\b\b\b\b\b\b\b\b\b\b\b\b\b\b\b\b\b\b\b\r17/17 [==============================] - 0s 3ms/step - loss: 7.5145\n",
            "Epoch 84/100\n",
            " 1/17 [>.............................] - ETA: 0s - loss: 8.6943"
          ]
        },
        {
          "output_type": "stream",
          "name": "stderr",
          "text": [
            "WARNING:tensorflow:Early stopping conditioned on metric `mean_squared_error` which is not available. Available metrics are: loss\n"
          ]
        },
        {
          "output_type": "stream",
          "name": "stdout",
          "text": [
            "\b\b\b\b\b\b\b\b\b\b\b\b\b\b\b\b\b\b\b\b\b\b\b\b\b\b\b\b\b\b\b\b\b\b\b\b\b\b\b\b\b\b\b\b\b\b\b\b\b\b\b\b\b\b\b\b\b\b\b\b\b\b\b\r17/17 [==============================] - 0s 3ms/step - loss: 8.0606\n",
            "Epoch 85/100\n",
            " 1/17 [>.............................] - ETA: 0s - loss: 8.8884"
          ]
        },
        {
          "output_type": "stream",
          "name": "stderr",
          "text": [
            "WARNING:tensorflow:Early stopping conditioned on metric `mean_squared_error` which is not available. Available metrics are: loss\n"
          ]
        },
        {
          "output_type": "stream",
          "name": "stdout",
          "text": [
            "\b\b\b\b\b\b\b\b\b\b\b\b\b\b\b\b\b\b\b\b\b\b\b\b\b\b\b\b\b\b\b\b\b\b\b\b\b\b\b\b\b\b\b\b\b\b\b\b\b\b\b\b\b\b\b\b\b\b\b\b\b\b\b\r17/17 [==============================] - 0s 3ms/step - loss: 7.4451\n",
            "Epoch 86/100\n",
            " 1/17 [>.............................] - ETA: 0s - loss: 9.3063"
          ]
        },
        {
          "output_type": "stream",
          "name": "stderr",
          "text": [
            "WARNING:tensorflow:Early stopping conditioned on metric `mean_squared_error` which is not available. Available metrics are: loss\n"
          ]
        },
        {
          "output_type": "stream",
          "name": "stdout",
          "text": [
            "\b\b\b\b\b\b\b\b\b\b\b\b\b\b\b\b\b\b\b\b\b\b\b\b\b\b\b\b\b\b\b\b\b\b\b\b\b\b\b\b\b\b\b\b\b\b\b\b\b\b\b\b\b\b\b\b\b\b\b\b\b\b\b\r17/17 [==============================] - 0s 3ms/step - loss: 6.9895\n",
            "Epoch 87/100\n",
            " 1/17 [>.............................] - ETA: 0s - loss: 6.4601"
          ]
        },
        {
          "output_type": "stream",
          "name": "stderr",
          "text": [
            "WARNING:tensorflow:Early stopping conditioned on metric `mean_squared_error` which is not available. Available metrics are: loss\n"
          ]
        },
        {
          "output_type": "stream",
          "name": "stdout",
          "text": [
            "\b\b\b\b\b\b\b\b\b\b\b\b\b\b\b\b\b\b\b\b\b\b\b\b\b\b\b\b\b\b\b\b\b\b\b\b\b\b\b\b\b\b\b\b\b\b\b\b\b\b\b\b\b\b\b\b\b\b\b\b\b\b\b\r17/17 [==============================] - 0s 3ms/step - loss: 6.8819\n",
            "Epoch 88/100\n",
            " 1/17 [>.............................] - ETA: 0s - loss: 9.1736"
          ]
        },
        {
          "output_type": "stream",
          "name": "stderr",
          "text": [
            "WARNING:tensorflow:Early stopping conditioned on metric `mean_squared_error` which is not available. Available metrics are: loss\n"
          ]
        },
        {
          "output_type": "stream",
          "name": "stdout",
          "text": [
            "\b\b\b\b\b\b\b\b\b\b\b\b\b\b\b\b\b\b\b\b\b\b\b\b\b\b\b\b\b\b\b\b\b\b\b\b\b\b\b\b\b\b\b\b\b\b\b\b\b\b\b\b\b\b\b\b\b\b\b\b\b\b\b\r17/17 [==============================] - 0s 3ms/step - loss: 6.8368\n",
            "Epoch 89/100\n",
            " 1/17 [>.............................] - ETA: 0s - loss: 10.1403"
          ]
        },
        {
          "output_type": "stream",
          "name": "stderr",
          "text": [
            "WARNING:tensorflow:Early stopping conditioned on metric `mean_squared_error` which is not available. Available metrics are: loss\n"
          ]
        },
        {
          "output_type": "stream",
          "name": "stdout",
          "text": [
            "\b\b\b\b\b\b\b\b\b\b\b\b\b\b\b\b\b\b\b\b\b\b\b\b\b\b\b\b\b\b\b\b\b\b\b\b\b\b\b\b\b\b\b\b\b\b\b\b\b\b\b\b\b\b\b\b\b\b\b\b\b\b\b\b\r17/17 [==============================] - 0s 3ms/step - loss: 6.6102\n",
            "Epoch 90/100\n",
            " 1/17 [>.............................] - ETA: 0s - loss: 6.6166"
          ]
        },
        {
          "output_type": "stream",
          "name": "stderr",
          "text": [
            "WARNING:tensorflow:Early stopping conditioned on metric `mean_squared_error` which is not available. Available metrics are: loss\n"
          ]
        },
        {
          "output_type": "stream",
          "name": "stdout",
          "text": [
            "\b\b\b\b\b\b\b\b\b\b\b\b\b\b\b\b\b\b\b\b\b\b\b\b\b\b\b\b\b\b\b\b\b\b\b\b\b\b\b\b\b\b\b\b\b\b\b\b\b\b\b\b\b\b\b\b\b\b\b\b\b\b\b\r17/17 [==============================] - 0s 3ms/step - loss: 6.8573\n",
            "Epoch 91/100\n",
            " 1/17 [>.............................] - ETA: 0s - loss: 8.9250"
          ]
        },
        {
          "output_type": "stream",
          "name": "stderr",
          "text": [
            "WARNING:tensorflow:Early stopping conditioned on metric `mean_squared_error` which is not available. Available metrics are: loss\n"
          ]
        },
        {
          "output_type": "stream",
          "name": "stdout",
          "text": [
            "\b\b\b\b\b\b\b\b\b\b\b\b\b\b\b\b\b\b\b\b\b\b\b\b\b\b\b\b\b\b\b\b\b\b\b\b\b\b\b\b\b\b\b\b\b\b\b\b\b\b\b\b\b\b\b\b\b\b\b\b\b\b\b\r17/17 [==============================] - 0s 3ms/step - loss: 6.3551\n",
            "Epoch 92/100\n",
            " 1/17 [>.............................] - ETA: 0s - loss: 6.3451"
          ]
        },
        {
          "output_type": "stream",
          "name": "stderr",
          "text": [
            "WARNING:tensorflow:Early stopping conditioned on metric `mean_squared_error` which is not available. Available metrics are: loss\n"
          ]
        },
        {
          "output_type": "stream",
          "name": "stdout",
          "text": [
            "\b\b\b\b\b\b\b\b\b\b\b\b\b\b\b\b\b\b\b\b\b\b\b\b\b\b\b\b\b\b\b\b\b\b\b\b\b\b\b\b\b\b\b\b\b\b\b\b\b\b\b\b\b\b\b\b\b\b\b\b\b\b\b\r17/17 [==============================] - 0s 3ms/step - loss: 6.3352\n",
            "Epoch 93/100\n",
            " 1/17 [>.............................] - ETA: 0s - loss: 8.7191"
          ]
        },
        {
          "output_type": "stream",
          "name": "stderr",
          "text": [
            "WARNING:tensorflow:Early stopping conditioned on metric `mean_squared_error` which is not available. Available metrics are: loss\n"
          ]
        },
        {
          "output_type": "stream",
          "name": "stdout",
          "text": [
            "\b\b\b\b\b\b\b\b\b\b\b\b\b\b\b\b\b\b\b\b\b\b\b\b\b\b\b\b\b\b\b\b\b\b\b\b\b\b\b\b\b\b\b\b\b\b\b\b\b\b\b\b\b\b\b\b\b\b\b\b\b\b\b\r17/17 [==============================] - 0s 3ms/step - loss: 6.6713\n",
            "Epoch 94/100\n",
            " 1/17 [>.............................] - ETA: 0s - loss: 12.3418"
          ]
        },
        {
          "output_type": "stream",
          "name": "stderr",
          "text": [
            "WARNING:tensorflow:Early stopping conditioned on metric `mean_squared_error` which is not available. Available metrics are: loss\n"
          ]
        },
        {
          "output_type": "stream",
          "name": "stdout",
          "text": [
            "\b\b\b\b\b\b\b\b\b\b\b\b\b\b\b\b\b\b\b\b\b\b\b\b\b\b\b\b\b\b\b\b\b\b\b\b\b\b\b\b\b\b\b\b\b\b\b\b\b\b\b\b\b\b\b\b\b\b\b\b\b\b\b\b\r17/17 [==============================] - 0s 3ms/step - loss: 6.4895\n",
            "Epoch 95/100\n",
            " 1/17 [>.............................] - ETA: 0s - loss: 4.8116"
          ]
        },
        {
          "output_type": "stream",
          "name": "stderr",
          "text": [
            "WARNING:tensorflow:Early stopping conditioned on metric `mean_squared_error` which is not available. Available metrics are: loss\n"
          ]
        },
        {
          "output_type": "stream",
          "name": "stdout",
          "text": [
            "\b\b\b\b\b\b\b\b\b\b\b\b\b\b\b\b\b\b\b\b\b\b\b\b\b\b\b\b\b\b\b\b\b\b\b\b\b\b\b\b\b\b\b\b\b\b\b\b\b\b\b\b\b\b\b\b\b\b\b\b\b\b\b\r17/17 [==============================] - 0s 3ms/step - loss: 5.9945\n",
            "Epoch 96/100\n",
            " 1/17 [>.............................] - ETA: 0s - loss: 5.7981"
          ]
        },
        {
          "output_type": "stream",
          "name": "stderr",
          "text": [
            "WARNING:tensorflow:Early stopping conditioned on metric `mean_squared_error` which is not available. Available metrics are: loss\n"
          ]
        },
        {
          "output_type": "stream",
          "name": "stdout",
          "text": [
            "\b\b\b\b\b\b\b\b\b\b\b\b\b\b\b\b\b\b\b\b\b\b\b\b\b\b\b\b\b\b\b\b\b\b\b\b\b\b\b\b\b\b\b\b\b\b\b\b\b\b\b\b\b\b\b\b\b\b\b\b\b\b\b\r17/17 [==============================] - 0s 3ms/step - loss: 5.9401\n",
            "Epoch 97/100\n",
            "16/17 [===========================>..] - ETA: 0s - loss: 5.7934"
          ]
        },
        {
          "output_type": "stream",
          "name": "stderr",
          "text": [
            "WARNING:tensorflow:Early stopping conditioned on metric `mean_squared_error` which is not available. Available metrics are: loss\n"
          ]
        },
        {
          "output_type": "stream",
          "name": "stdout",
          "text": [
            "\b\b\b\b\b\b\b\b\b\b\b\b\b\b\b\b\b\b\b\b\b\b\b\b\b\b\b\b\b\b\b\b\b\b\b\b\b\b\b\b\b\b\b\b\b\b\b\b\b\b\b\b\b\b\b\b\b\b\b\b\b\b\b\r17/17 [==============================] - 0s 4ms/step - loss: 5.8388\n",
            "Epoch 98/100\n",
            " 1/17 [>.............................] - ETA: 0s - loss: 5.0357"
          ]
        },
        {
          "output_type": "stream",
          "name": "stderr",
          "text": [
            "WARNING:tensorflow:Early stopping conditioned on metric `mean_squared_error` which is not available. Available metrics are: loss\n"
          ]
        },
        {
          "output_type": "stream",
          "name": "stdout",
          "text": [
            "\b\b\b\b\b\b\b\b\b\b\b\b\b\b\b\b\b\b\b\b\b\b\b\b\b\b\b\b\b\b\b\b\b\b\b\b\b\b\b\b\b\b\b\b\b\b\b\b\b\b\b\b\b\b\b\b\b\b\b\b\b\b\b\r17/17 [==============================] - 0s 2ms/step - loss: 5.6216\n",
            "Epoch 99/100\n",
            " 1/17 [>.............................] - ETA: 0s - loss: 4.9165"
          ]
        },
        {
          "output_type": "stream",
          "name": "stderr",
          "text": [
            "WARNING:tensorflow:Early stopping conditioned on metric `mean_squared_error` which is not available. Available metrics are: loss\n"
          ]
        },
        {
          "output_type": "stream",
          "name": "stdout",
          "text": [
            "\b\b\b\b\b\b\b\b\b\b\b\b\b\b\b\b\b\b\b\b\b\b\b\b\b\b\b\b\b\b\b\b\b\b\b\b\b\b\b\b\b\b\b\b\b\b\b\b\b\b\b\b\b\b\b\b\b\b\b\b\b\b\b\r17/17 [==============================] - 0s 3ms/step - loss: 5.6250\n",
            "Epoch 100/100\n",
            " 1/17 [>.............................] - ETA: 0s - loss: 3.9487"
          ]
        },
        {
          "output_type": "stream",
          "name": "stderr",
          "text": [
            "WARNING:tensorflow:Early stopping conditioned on metric `mean_squared_error` which is not available. Available metrics are: loss\n"
          ]
        },
        {
          "output_type": "stream",
          "name": "stdout",
          "text": [
            "17/17 [==============================] - 0s 3ms/step - loss: 5.5175\n",
            "17/17 [==============================] - 0s 2ms/step\n",
            "                    Name  Predicted_Hits_2024\n",
            "0           Aaron Looper           172.205551\n",
            "1         Aaron Scheffer           171.675797\n",
            "2     Abel De Los Santos           150.083145\n",
            "3       Adalberto Mendez           117.986053\n",
            "4            Adam Duvall           138.000916\n",
            "..                   ...                  ...\n",
            "538  Yurendell de Caster           167.641647\n",
            "539           Zach Clark           145.443832\n",
            "540          Zach Davies           106.419930\n",
            "541             Zach Lee           162.873978\n",
            "542       Zach McClellan           183.807907\n",
            "\n",
            "[543 rows x 2 columns]\n"
          ]
        }
      ]
    },
    {
      "cell_type": "code",
      "source": [
        "# Cross-reference names with free agents\n",
        "sorted_data = grouped_data[grouped_data['Name'].isin(real_names_data)]\n",
        "sorted_data = sorted_data[['Name', 'Predicted_Hits_2024']].sort_values(by='Predicted_Hits_2024', ascending=False)\n",
        "sorted_data = sorted_data.reset_index(drop=True)\n",
        "\n",
        "#Print predicted hits 2024\n",
        "print(sorted_data)"
      ],
      "metadata": {
        "colab": {
          "base_uri": "https://localhost:8080/"
        },
        "id": "Zch7Gndhjkuz",
        "outputId": "dc61714b-1f43-44f7-a3b0-d4746ed06709"
      },
      "execution_count": 528,
      "outputs": [
        {
          "output_type": "stream",
          "name": "stdout",
          "text": [
            "                 Name  Predicted_Hits_2024\n",
            "0          Dusty Ryan           238.205078\n",
            "1          Dan Murray           223.205444\n",
            "2    Brian Fitzgerald           218.782806\n",
            "3            Eric Cyr           217.310074\n",
            "4         Danny Young           215.837952\n",
            "..                ...                  ...\n",
            "145        Bob Henley           102.675514\n",
            "146        Brad Glenn           101.571953\n",
            "147     Ben Kozlowski           100.364357\n",
            "148       Josh Prince           100.122246\n",
            "149  Anthony Claggett            93.673950\n",
            "\n",
            "[150 rows x 2 columns]\n"
          ]
        }
      ]
    },
    {
      "cell_type": "code",
      "source": [
        "# Get everyone 2023 batting data\n",
        "data_2023 = data[data['Year'] == 2023]\n",
        "data_2023_unique = data_2023.drop_duplicates(subset='Name', keep='first')\n",
        "hits_2023_df = data_2023_unique[['Name', 'H']]"
      ],
      "metadata": {
        "id": "r4csQcjnOZR8"
      },
      "execution_count": 529,
      "outputs": []
    },
    {
      "cell_type": "code",
      "source": [
        "real_names = set(real_names_data)\n",
        "print(len(real_names))\n",
        "\n",
        "sorted_and_filtered_data_2023 = hits_2023_df[hits_2023_df['Name'].isin(real_names)]"
      ],
      "metadata": {
        "colab": {
          "base_uri": "https://localhost:8080/"
        },
        "id": "Tex3FVtk9NkV",
        "outputId": "75bdd6c3-19e8-4ebd-94d9-799502b58386"
      },
      "execution_count": 531,
      "outputs": [
        {
          "output_type": "stream",
          "name": "stdout",
          "text": [
            "150\n"
          ]
        }
      ]
    },
    {
      "cell_type": "code",
      "source": [
        "# Calculate improvement from 2023\n",
        "\n",
        "merged_data = pd.merge(sorted_data, sorted_and_filtered_data_2023, on='Name')\n",
        "\n",
        "merged_data['Difference'] = merged_data['Predicted_Hits_2024'] - merged_data['H']\n",
        "\n",
        "merged_sorted_diff = merged_data[['Name', 'Difference']].sort_values(by='Difference', ascending=False)\n",
        "merged_sorted_diff = merged_sorted_diff.reset_index(drop=True)\n",
        "\n",
        "# Print improvement from 2023\n",
        "print(merged_sorted_diff)"
      ],
      "metadata": {
        "colab": {
          "base_uri": "https://localhost:8080/"
        },
        "id": "gwUNgX1XPlPE",
        "outputId": "54d7942a-5b3e-4240-8d6d-31ff1e789da1"
      },
      "execution_count": 532,
      "outputs": [
        {
          "output_type": "stream",
          "name": "stdout",
          "text": [
            "                  Name  Difference\n",
            "0         Angel Castro   38.022552\n",
            "1          Audry Perez   35.049194\n",
            "2         Arturo Lopez   31.711197\n",
            "3     Francisco Santos   30.261566\n",
            "4         Dusty Wathan   29.444244\n",
            "..                 ...         ...\n",
            "145        Bill Ortega  -28.164963\n",
            "146  Carlos Valderrama  -29.184845\n",
            "147         Danny Rios  -30.209900\n",
            "148        Jason Gurka  -30.239227\n",
            "149           Eric Cyr  -33.689926\n",
            "\n",
            "[150 rows x 2 columns]\n"
          ]
        }
      ]
    },
    {
      "cell_type": "code",
      "source": [
        "#Calculate rankings for every person\n",
        "Player_name_to_find = 'Erik Komatsu'\n",
        "position_of_name = sorted_data[sorted_data['Name'] == Player_name_to_find].index[0]\n",
        "position_of_diff = merged_sorted_diff[merged_sorted_diff['Name'] == Player_name_to_find].index[0]\n",
        "\n",
        "print(f\"The position of {Player_name_to_find} in 2024 projection is {position_of_name + 1}\" + f\" in 2024 improvement is {position_of_diff+1}\")"
      ],
      "metadata": {
        "colab": {
          "base_uri": "https://localhost:8080/"
        },
        "id": "VaKnroDnRGIB",
        "outputId": "f2d0119e-4b21-4253-bcc3-58eae786f6d6"
      },
      "execution_count": 533,
      "outputs": [
        {
          "output_type": "stream",
          "name": "stdout",
          "text": [
            "The position of Erik Komatsu in 2024 projection is 31 in 2024 improvement is 21\n"
          ]
        }
      ]
    },
    {
      "cell_type": "code",
      "source": [
        "# Get the weights of the first layer\n",
        "weights_first_layer = model.layers[1].get_weights()[0]\n",
        "\n",
        "# Assuming your input features are in X\n",
        "# Get the feature names\n",
        "feature_names = ['age', 'PA', 'H', '2B', 'HR', 'SO', 'P/PA', 'BA', 'OBP', 'SLG', 'OPS',]\n",
        "\n",
        "# Calculate the importance of each feature based on the weights\n",
        "feature_importance = np.mean(np.abs(weights_first_layer), axis=0)\n",
        "\n",
        "# Create a dictionary to map feature names to their importance scores\n",
        "feature_importance_dict = dict(zip(feature_names, feature_importance))\n",
        "\n",
        "# Sort the dictionary by importance (descending order)\n",
        "sorted_feature_importance = dict(sorted(feature_importance_dict.items(), key=lambda item: item[1], reverse=True))\n",
        "\n",
        "# Print or visualize the sorted feature importance\n",
        "for feature, importance in sorted_feature_importance.items():\n",
        "    print(f\"{feature}: {importance}\")"
      ],
      "metadata": {
        "colab": {
          "base_uri": "https://localhost:8080/"
        },
        "id": "2PQBmoXT9bRD",
        "outputId": "cff7be09-34c0-490b-b744-373381e17062"
      },
      "execution_count": 534,
      "outputs": [
        {
          "output_type": "stream",
          "name": "stdout",
          "text": [
            "OPS: 0.38272935152053833\n",
            "2B: 0.3792213499546051\n",
            "PA: 0.3716892898082733\n",
            "BA: 0.3627122938632965\n",
            "H: 0.3495068848133087\n",
            "SO: 0.34945595264434814\n",
            "P/PA: 0.3115348517894745\n",
            "OBP: 0.3052990436553955\n",
            "age: 0.2979729175567627\n",
            "SLG: 0.13179080188274384\n",
            "HR: 0.11200318485498428\n"
          ]
        }
      ]
    },
    {
      "cell_type": "code",
      "source": [
        "#Validation scores\n",
        "\n",
        "# from sklearn.model_selection import cross_val_score\n",
        "\n",
        "# # Assuming model is your trained model\n",
        "# # X and y are your features and target variable\n",
        "# scores = cross_val_score(model, X, y, cv=5)  # 5-fold cross-validation\n",
        "\n",
        "# print(\"Cross-Validation Scores:\", scores)\n",
        "# print(\"Mean Accuracy:\", scores.mean())"
      ],
      "metadata": {
        "id": "UgOChBVgHhTT"
      },
      "execution_count": 502,
      "outputs": []
    },
    {
      "cell_type": "code",
      "source": [
        "#Send to CSV\n",
        "\n",
        "sorted_data = sorted_data[['Name', 'Predicted_Hits_2024']].sort_values(by='Name', ascending=True)\n",
        "\n",
        "sorted_data.to_csv('file1.csv')\n",
        "print(sorted_data)"
      ],
      "metadata": {
        "colab": {
          "base_uri": "https://localhost:8080/"
        },
        "id": "lRKTCssCOKeH",
        "outputId": "57d0b26f-4217-43ad-fa55-6a5f1f4f5324"
      },
      "execution_count": 504,
      "outputs": [
        {
          "output_type": "stream",
          "name": "stdout",
          "text": [
            "                Name  Predicted_Hits_2024\n",
            "41      Aaron Looper           171.572876\n",
            "28     Adam Peterson           183.198547\n",
            "92         Adam Wilk           144.987915\n",
            "102    Adrian Houser           141.775543\n",
            "132  Agustin Montero           116.791306\n",
            "..               ...                  ...\n",
            "12    Keith McDonald           201.120605\n",
            "91        Ken Vining           146.303162\n",
            "88    Kensuke Tanaka           147.147308\n",
            "51      Kevin Hooper           164.991089\n",
            "110      Kevin Mahar           134.727280\n",
            "\n",
            "[150 rows x 2 columns]\n"
          ]
        }
      ]
    },
    {
      "cell_type": "code",
      "source": [],
      "metadata": {
        "id": "caTnJnMtcQma"
      },
      "execution_count": 502,
      "outputs": []
    }
  ]
}